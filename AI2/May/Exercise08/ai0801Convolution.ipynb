{
 "cells": [
  {
   "cell_type": "code",
   "execution_count": 1,
   "id": "367f412b",
   "metadata": {
    "scrolled": true
   },
   "outputs": [],
   "source": [
    "import numpy\n",
    "\n",
    "M = numpy.array([[0, 50, 0, 29],\n",
    "                 [0, 80, 31, 2],\n",
    "                 [33, 90, 0, 75],\n",
    "                 [0, 9, 0, 95]])\n",
    "\n",
    "C = numpy.array([[-1, 0, 1],\n",
    "                 [-2, 0, 2],\n",
    "                 [-1, 0, 1]])\n",
    "\n",
    "def convolution(Main, Mover):\n",
    "    sizeL = len(Main[0]) - len(Mover[0])\n",
    "    sizeH = len(Main) - len(Mover)\n",
    "    length = sizeL\n",
    "    height = sizeH\n",
    "    result = numpy.zeros((height + 1, length + 1), dtype = int)\n",
    "    while height >= 0 :\n",
    "        length = sizeL\n",
    "        while length >= 0 :\n",
    "            result[height][length] = numpy.sum(numpy.multiply(Main[height:len(Mover)+height, length:len(Mover[0])+length], C))\n",
    "            length -= 1\n",
    "        height -= 1\n",
    "    print(result)\n",
    "    \n",
    "def maxPooling(Main, sizeH, sizeL):\n",
    "    length = sizeL\n",
    "    height = sizeH\n",
    "    result = numpy.zeros((len(Main)-sizeH+1, len(Main)-sizeL+1), dtype = int)\n",
    "    while height >= 0 :\n",
    "        length = sizeL\n",
    "        while length >= 0 :\n",
    "            result[height][length] = numpy.amax(Main[height:sizeH+height, length:sizeL+length])\n",
    "            length -= 1\n",
    "        height -= 1\n",
    "    print(result)\n",
    "    \n",
    "def avgPooling(Main, sizeH, sizeL):\n",
    "    length = sizeL\n",
    "    height = sizeH\n",
    "    result = numpy.zeros((len(Main)-sizeH+1, len(Main)-sizeL+1), dtype = int)\n",
    "    while height >= 0 :\n",
    "        length = sizeL\n",
    "        while length >= 0 :\n",
    "            result[height][length] = numpy.mean(Main[height:sizeH+height, length:sizeL+length])\n",
    "            length -= 1\n",
    "        height -= 1\n",
    "    print(result)"
   ]
  },
  {
   "cell_type": "code",
   "execution_count": 2,
   "id": "2a98ad2f",
   "metadata": {},
   "outputs": [
    {
     "name": "stdout",
     "output_type": "stream",
     "text": [
      "Array M:\n",
      " [[ 0 50  0 29]\n",
      " [ 0 80 31  2]\n",
      " [33 90  0 75]\n",
      " [ 0  9  0 95]]\n",
      "Array C:\n",
      " [[-1  0  1]\n",
      " [-2  0  2]\n",
      " [-1  0  1]]\n",
      "---\n",
      "convolution of MxC:\n",
      "[[  29 -192]\n",
      " [ -35  -22]]\n",
      "maxPooling of M:\n",
      "[[80 80 31]\n",
      " [90 90 75]\n",
      " [90 90 95]]\n",
      "avgPooling of M:\n",
      "[[32 40 15]\n",
      " [50 50 27]\n",
      " [33 24 42]]\n"
     ]
    }
   ],
   "source": [
    "print(\"Array M:\\n\", M)\n",
    "print(\"Array C:\\n\", C)\n",
    "print(\"---\")\n",
    "print(\"convolution of MxC:\")\n",
    "convolution(M, C)\n",
    "print(\"maxPooling of M:\")\n",
    "maxPooling(M, 2, 2)\n",
    "print(\"avgPooling of M:\")\n",
    "avgPooling(M, 2, 2)"
   ]
  }
 ],
 "metadata": {
  "kernelspec": {
   "display_name": "Python 3 (ipykernel)",
   "language": "python",
   "name": "python3"
  },
  "language_info": {
   "codemirror_mode": {
    "name": "ipython",
    "version": 3
   },
   "file_extension": ".py",
   "mimetype": "text/x-python",
   "name": "python",
   "nbconvert_exporter": "python",
   "pygments_lexer": "ipython3",
   "version": "3.10.0"
  }
 },
 "nbformat": 4,
 "nbformat_minor": 5
}
