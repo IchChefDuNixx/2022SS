{
 "cells": [
  {
   "cell_type": "markdown",
   "metadata": {},
   "source": [
    "## Neural network\n",
    "\n",
    "This programming task calculates a neural network for a sample data set. The task is to train a classifier that is supposed to recognize digits.\n",
    "\n",
    "Given are the following digits for training:\n"
   ]
  },
  {
   "cell_type": "markdown",
   "metadata": {},
   "source": [
    "![](numbers.jpg)"
   ]
  },
  {
   "cell_type": "markdown",
   "metadata": {},
   "source": [
    "1. Map the digits into a numpy array X and the labels into another numpy array Y:"
   ]
  },
  {
   "cell_type": "code",
   "execution_count": 1,
   "metadata": {},
   "outputs": [],
   "source": [
    "import numpy as np\n",
    "np.set_printoptions(suppress=True)"
   ]
  },
  {
   "cell_type": "code",
   "execution_count": 2,
   "metadata": {},
   "outputs": [],
   "source": [
    "X = np.array([[0,0,1,0,0,1,1,0,1,0,1,0,0,0,1,0,0,0,1,0],  # Ziffer '1'\\n\",\n",
    "              [0,1,1,0,1,0,0,1,0,0,1,0,0,1,0,0,1,1,1,1],  # Ziffer '2'\\n\",\n",
    "              [0,1,1,0,1,0,0,1,0,0,1,1,1,0,0,1,0,1,1,0]]) # Ziffer '3'\\n\" Ziffer '3'\n",
    "\n",
    "Y = np.array([[1,0,0],  # klassifiziert als ‚1’\n",
    "              [0,1,0],  # klassifiziert als ‚2’\n",
    "              [0,0,1]]) # klassifiziert als ‚3’"
   ]
  },
  {
   "cell_type": "markdown",
   "metadata": {},
   "source": [
    "**Test whether the arrays were actually entered correctly**."
   ]
  },
  {
   "cell_type": "code",
   "execution_count": 3,
   "metadata": {},
   "outputs": [
    {
     "data": {
      "image/png": "[encoded data removed]",
      "text/plain": [
       "<Figure size 432x288 with 3 Axes>"
      ]
     },
     "metadata": {
      "needs_background": "light"
     },
     "output_type": "display_data"
    }
   ],
   "source": [
    "import numpy as np\n",
    "import matplotlib.pyplot as plt\n",
    "\n",
    "Q = np.reshape(X, (3,5,4))\n",
    "\n",
    "cmap = plt.cm.Greys\n",
    "\n",
    "fig, ax = plt.subplots(Q.shape[0])\n",
    "\n",
    "for i in range(ax.shape[0]):\n",
    "    ax[i].set_aspect('equal')\n",
    "    ax[i].set_axis_off()\n",
    "    ax[i].pcolor(np.flipud(Q[i]), edgecolors='k', linewidths=2, cmap=cmap)\n",
    "\n",
    "fig.tight_layout()\n",
    "plt.show()\n"
   ]
  },
  {
   "cell_type": "markdown",
   "metadata": {},
   "source": [
    "2. Write the auxiliary functions to calculate the sigmoid and the function of a neuron (incl. activation by sigmoids):"
   ]
  },
  {
   "cell_type": "code",
   "execution_count": 4,
   "metadata": {},
   "outputs": [
    {
     "name": "stdout",
     "output_type": "stream",
     "text": [
      "0.9975273768433653\n"
     ]
    }
   ],
   "source": [
    "# Sigmoid Berechnung\n",
    "def sigmoid(x):\n",
    "    # your code goes here\n",
    "    return 1/(1+np.exp(-x))\n",
    "\n",
    "# Ableitung vom sigmoid\n",
    "def sigmoid_d(x):\n",
    "    return sigmoid(x)*(1-sigmoid(x))\n",
    "\n",
    "# Neuron \n",
    "def neuron(I,W,f):\n",
    "    # your code goes here\n",
    "    return f(np.dot(I,W))\n",
    "\n",
    "# Layer \n",
    "def layer(I,W):\n",
    "    # your code goes here\n",
    "    return neuron(I,W,sigmoid)\n",
    "\n",
    "# Test\n",
    "print(neuron(np.array([1,2,3]), np.array([1,1,1]), sigmoid))\n",
    "\n",
    "# das Resultat sollte 0.9975273768433653 sein!!!!\n"
   ]
  },
  {
   "cell_type": "markdown",
   "metadata": {},
   "source": [
    "\n",
    "3. Initialize the neural network and connect the layers. The network should have an input layer (L0), 1 hidden layer (L1) and an output layer (L3).\n",
    "\n"
   ]
  },
  {
   "cell_type": "code",
   "execution_count": 5,
   "metadata": {},
   "outputs": [
    {
     "name": "stdout",
     "output_type": "stream",
     "text": [
      "[[0.99999987 0.99999897 0.99999929]\n",
      " [0.99999992 0.99999932 0.9999995 ]\n",
      " [0.99999992 0.99999931 0.9999995 ]]\n"
     ]
    }
   ],
   "source": [
    "# Initialisierung\n",
    "np.random.seed(1)       \n",
    "\n",
    "# Connect Input- with Hidden-Layer\n",
    "\n",
    "# How many input values are there?\n",
    "W0 = np.random.random((20,30)) \n",
    "\n",
    "# Connect Hidden- with Output-Layer\n",
    "\n",
    "# How many output values?\n",
    "\n",
    "W1 = np.random.random((30,3))\n",
    "\n",
    "\n",
    "L0 = X              # Input Layer\n",
    "L1 = layer(L0, W0)  # Hidden Layer\n",
    "L3 = layer(L1, W1)  # Output Layer\n",
    "print(L3)\n",
    "\n",
    "# Result\n",
    "#[[0.99999987 0.99999897 0.99999929]\n",
    "# [0.99999992 0.99999932 0.9999995 ]\n",
    "# [0.99999992 0.99999931 0.9999995 ]]\n"
   ]
  },
  {
   "cell_type": "markdown",
   "metadata": {},
   "source": [
    "The actual heart piece. Implement the backpropagation algorithm over this neural network. For this:\n",
    "\n",
    "1. calculate the result, i.e. perform forward propagation\n",
    "2. determine the error between the result and Y\n",
    "3. determine the delta with which the weights between hidden and output layer have to be adjusted\n",
    "4. determine the delta with which the weights between hidden and input layer have to be adjusted\n",
    "5. repeat the whole process until the error is smaller than 0.05!\n",
    "\n",
    "Translated with www.DeepL.com/Translator (free version)"
   ]
  },
  {
   "cell_type": "code",
   "execution_count": 6,
   "metadata": {},
   "outputs": [
    {
     "name": "stdout",
     "output_type": "stream",
     "text": [
      "0 Error: 0.6666664684\n",
      "1 Error: 0.6532297798\n",
      "2 Error: 0.3335503084\n",
      "3 Error: 0.4857498090\n",
      "4 Error: 0.3684471186\n",
      "5 Error: 0.6226404010\n",
      "6 Error: 0.3334557970\n",
      "7 Error: 0.4484668228\n",
      "8 Error: 0.4027772739\n",
      "9 Error: 0.5400987772\n",
      "10 Error: 0.3447847136\n",
      "11 Error: 0.5710967506\n",
      "12 Error: 0.3582730959\n",
      "13 Error: 0.4691820316\n",
      "14 Error: 0.4098541233\n",
      "15 Error: 0.4590375682\n",
      "16 Error: 0.4429856326\n",
      "17 Error: 0.5147953030\n",
      "18 Error: 0.3566456630\n",
      "19 Error: 0.4735943397\n",
      "20 Error: 0.3602927298\n",
      "21 Error: 0.5524502545\n",
      "22 Error: 0.3335885476\n",
      "23 Error: 0.5313577609\n",
      "24 Error: 0.3620581886\n",
      "25 Error: 0.4276051789\n",
      "26 Error: 0.3539517666\n",
      "27 Error: 0.5168308066\n",
      "28 Error: 0.4263797779\n",
      "29 Error: 0.3881121379\n",
      "30 Error: 0.3420964238\n",
      "31 Error: 0.4377456062\n",
      "32 Error: 0.3048748720\n",
      "33 Error: 0.4488094186\n",
      "34 Error: 0.3306011919\n",
      "35 Error: 0.5153013873\n",
      "36 Error: 0.3330783323\n",
      "37 Error: 0.3727043320\n",
      "38 Error: 0.2961838752\n",
      "39 Error: 0.4968660455\n",
      "40 Error: 0.3309216504\n",
      "41 Error: 0.3720174572\n",
      "42 Error: 0.3233973557\n",
      "43 Error: 0.5007600121\n",
      "44 Error: 0.3285126049\n",
      "45 Error: 0.3317745617\n",
      "46 Error: 0.3112740772\n",
      "47 Error: 0.4896617262\n",
      "48 Error: 0.3165319857\n",
      "49 Error: 0.2998209775\n",
      "50 Error: 0.2836812125\n",
      "51 Error: 0.4148503831\n",
      "52 Error: 0.2562653378\n",
      "53 Error: 0.2360520423\n",
      "54 Error: 0.2317294554\n",
      "55 Error: 0.3572273026\n",
      "56 Error: 0.2392219169\n",
      "57 Error: 0.2381845546\n",
      "58 Error: 0.2277908534\n",
      "59 Error: 0.3300247331\n",
      "60 Error: 0.2315876599\n",
      "61 Error: 0.2327514672\n",
      "62 Error: 0.2200057743\n",
      "63 Error: 0.3075090294\n",
      "64 Error: 0.2196461673\n",
      "65 Error: 0.2127715017\n",
      "66 Error: 0.2047970391\n",
      "67 Error: 0.2780697575\n",
      "68 Error: 0.1999572670\n",
      "69 Error: 0.1799326432\n",
      "70 Error: 0.1767327216\n",
      "71 Error: 0.2298464541\n",
      "72 Error: 0.1641826527\n",
      "73 Error: 0.1421150105\n",
      "74 Error: 0.1460249043\n",
      "75 Error: 0.1990644333\n",
      "76 Error: 0.1504864789\n",
      "77 Error: 0.1406750795\n",
      "78 Error: 0.1417706259\n",
      "79 Error: 0.1847946309\n",
      "80 Error: 0.1468882141\n",
      "81 Error: 0.1441332165\n",
      "82 Error: 0.1391798765\n",
      "83 Error: 0.1699846626\n",
      "84 Error: 0.1426007471\n",
      "85 Error: 0.1473080434\n",
      "86 Error: 0.1362872315\n",
      "87 Error: 0.1557870614\n",
      "88 Error: 0.1366770361\n",
      "89 Error: 0.1459481972\n",
      "90 Error: 0.1317458435\n",
      "91 Error: 0.1429350385\n",
      "92 Error: 0.1283699645\n",
      "93 Error: 0.1361100974\n",
      "94 Error: 0.1227324339\n",
      "95 Error: 0.1271461138\n",
      "96 Error: 0.1146793697\n",
      "97 Error: 0.1136156559\n",
      "98 Error: 0.1013954334\n",
      "99 Error: 0.0916395576\n",
      "100 Error: 0.0786893378\n",
      "101 Error: 0.0639483620\n",
      "102 Error: 0.0578372433\n",
      "103 Error: 0.0541539045\n",
      "104 Error: 0.0536504912\n",
      "105 Error: 0.0528948662\n",
      "106 Error: 0.0523878390\n",
      "107 Error: 0.0518276923\n",
      "108 Error: 0.0512976615\n",
      "109 Error: 0.0507693328\n",
      "110 Error: 0.0502508244\n",
      "111 Error: 0.0497394576\n"
     ]
    },
    {
     "data": {
      "image/png": "[encoded data removed]",
      "text/plain": [
       "<Figure size 432x288 with 1 Axes>"
      ]
     },
     "metadata": {
      "needs_background": "light"
     },
     "output_type": "display_data"
    }
   ],
   "source": [
    "errA = []\n",
    "\n",
    "for i in range(60000):\n",
    "    \n",
    "    L0 = X\n",
    "    L1 = layer(L0, W0)\n",
    "    L2 = layer(L1, W1)\n",
    "\n",
    "    L2_err = Y - L2\n",
    "    # print(tL2)\n",
    "    L2_delta = L2_err * sigmoid_d(L2)\n",
    "    W1 += np.dot(L1.T, L2_delta)\n",
    "    \n",
    "    \n",
    "    err = np.mean(np.abs(L2_err))\n",
    "    print(\"%s Error: %6.10f\" % (i, err))\n",
    "    errA.append(err)\n",
    "        \n",
    "    if np.mean(np.abs(L2_err)) < 0.05:\n",
    "        break\n",
    "\n",
    "    L1_err = np.dot(L2_delta, W1.T)    \n",
    "    L1_delta = L1_err * sigmoid_d(L1)\n",
    "    W0 += np.dot(L0.T, L1_delta)\n",
    "    \n",
    "plt.plot(errA)\n",
    "plt.show()"
   ]
  },
  {
   "cell_type": "markdown",
   "metadata": {},
   "source": [
    "Time for testing. Let's see if the model can now detect deviations and classify them correctly.\n",
    "There are the following deviations:"
   ]
  },
  {
   "cell_type": "code",
   "execution_count": 7,
   "metadata": {},
   "outputs": [
    {
     "name": "stdout",
     "output_type": "stream",
     "text": [
      "[[0.95764431 0.02022213 0.00282105]]\n"
     ]
    }
   ],
   "source": [
    "# Test1\n",
    "L0 = np.array([[0,0,1,0,0,1,1,0,0,0,1,0,0,0,1,0,0,0,0,0]])\n",
    "L1 = layer(L0, W0)\n",
    "L2 = layer(L1, W1)\n",
    "\n",
    "print(L2)\n",
    "# Ausgabe etwas wie\n",
    "# [[0.95764431 0.02022213 0.00282105]]\n"
   ]
  },
  {
   "cell_type": "markdown",
   "metadata": {},
   "source": [
    "Test 2"
   ]
  },
  {
   "cell_type": "code",
   "execution_count": 8,
   "metadata": {},
   "outputs": [
    {
     "name": "stdout",
     "output_type": "stream",
     "text": [
      "[[0.88233092 0.05561936 0.00533852]]\n"
     ]
    }
   ],
   "source": [
    "# Test 2\n",
    "L0 = np.array([[0,0,1,0,0,0,1,0,0,0,1,0,0,0,1,0,0,0,1,0]])\n",
    "L1 = layer(L0, W0)\n",
    "L2 = layer(L1, W1)\n",
    "\n",
    "print(L2)\n",
    "\n",
    "# Ausgabe etwas wie\n",
    "# [[0.88233092 0.05561936 0.00533852]]"
   ]
  }
 ],
 "metadata": {
  "kernelspec": {
   "display_name": "Python 3 (ipykernel)",
   "language": "python",
   "name": "python3"
  },
  "language_info": {
   "codemirror_mode": {
    "name": "ipython",
    "version": 3
   },
   "file_extension": ".py",
   "mimetype": "text/x-python",
   "name": "python",
   "nbconvert_exporter": "python",
   "pygments_lexer": "ipython3",
   "version": "3.10.0"
  }
 },
 "nbformat": 4,
 "nbformat_minor": 2
}
