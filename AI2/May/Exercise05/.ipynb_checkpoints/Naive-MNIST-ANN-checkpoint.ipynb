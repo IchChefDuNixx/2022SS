{
 "cells": [
  {
   "cell_type": "markdown",
   "metadata": {},
   "source": [
    "## Neural network\n",
    "\n",
    "This programming task calculates a neural network for a sample data set. The task is to train a classifier that is supposed to recognize digits.\n",
    "\n",
    "Given are the following digits for training:\n"
   ]
  },
  {
   "cell_type": "markdown",
   "metadata": {},
   "source": [
    "![](numbers.jpg)"
   ]
  },
  {
   "cell_type": "markdown",
   "metadata": {},
   "source": [
    "1. Map the digits into a numpy array X and the labels into another numpy array Y:"
   ]
  },
  {
   "cell_type": "code",
   "execution_count": 1,
   "metadata": {},
   "outputs": [],
   "source": [
    "import numpy as np\n",
    "np.set_printoptions(suppress=True)"
   ]
  },
  {
   "cell_type": "code",
   "execution_count": 2,
   "metadata": {},
   "outputs": [],
   "source": [
    "X = np.array([[0,0,1,0,\n",
    "               0,1,1,0,\n",
    "               1,0,1,0,\n",
    "               0,0,1,0,\n",
    "               0,0,1,0],  # number '1'\\n\",\n",
    "              [0,1,1,0,\n",
    "               1,0,0,1,\n",
    "               0,0,1,0,\n",
    "               0,1,0,0,\n",
    "               1,1,1,1],  # number '2'\\n\",\n",
    "              [0,1,1,0,\n",
    "               1,0,0,1,\n",
    "               0,0,1,1,\n",
    "               1,0,0,1,\n",
    "               0,1,1,0]]) # number '3'\\n\" Ziffer '3'\n",
    "\n",
    "Y = np.array([[1,0,0],  # classified as ‚1’\n",
    "              [0,1,0],  # classified as ‚2’\n",
    "              [0,0,1]]) # classified as ‚3’"
   ]
  },
  {
   "cell_type": "markdown",
   "metadata": {},
   "source": [
    "**Test whether the arrays were actually entered correctly**."
   ]
  },
  {
   "cell_type": "code",
   "execution_count": 3,
   "metadata": {},
   "outputs": [
    {
     "data": {
      "image/png": "[encoded data removed]",
      "text/plain": [
       "<Figure size 432x288 with 3 Axes>"
      ]
     },
     "metadata": {
      "needs_background": "light"
     },
     "output_type": "display_data"
    }
   ],
   "source": [
    "import numpy as np\n",
    "import matplotlib.pyplot as plt\n",
    "\n",
    "Q = np.reshape(X, (3,5,4))\n",
    "\n",
    "cmap = plt.cm.Greys\n",
    "\n",
    "fig, ax = plt.subplots(Q.shape[0])\n",
    "\n",
    "for i in range(ax.shape[0]):\n",
    "    ax[i].set_aspect('equal')\n",
    "    ax[i].set_axis_off()\n",
    "    ax[i].pcolor(np.flipud(Q[i]), edgecolors='k', linewidths=2, cmap=cmap)\n",
    "\n",
    "fig.tight_layout()\n",
    "plt.show()\n"
   ]
  },
  {
   "cell_type": "markdown",
   "metadata": {},
   "source": [
    "2. Write the auxiliary functions to calculate the sigmoid and the function of a neuron (incl. activation by sigmoids):"
   ]
  },
  {
   "cell_type": "code",
   "execution_count": 4,
   "metadata": {},
   "outputs": [
    {
     "name": "stdout",
     "output_type": "stream",
     "text": [
      "0.9975273768433653\n"
     ]
    }
   ],
   "source": [
    "# Sigmoid function\n",
    "def sigmoid(x):\n",
    "    return (1.0/(1.0+np.exp(-x)))\n",
    "\n",
    "# Derivation of sigmoid\n",
    "def sigmoid_d(x):\n",
    "    return (sigmoid(x)*(1-sigmoid(x)))\n",
    "\n",
    "# Neuron \n",
    "def neuron(I,W,f):\n",
    "    # your code goes here\n",
    "    return (f(np.dot(I,W)))\n",
    "\n",
    "# Layer \n",
    "def layer(I,W):\n",
    "    # your code goes here\n",
    "    return neuron(I,W,sigmoid)\n",
    "\n",
    "# Test\n",
    "print(neuron(np.array([1,2,3]), np.array([1,1,1]), sigmoid))\n",
    "\n",
    "# result should be 0.9975273768433653!!!!\n"
   ]
  },
  {
   "cell_type": "markdown",
   "metadata": {},
   "source": [
    "\n",
    "3. Initialize the neural network and connect the layers. The network should have an input layer (L0), 1 hidden layer (L1) and an output layer (L3).\n",
    "\n"
   ]
  },
  {
   "cell_type": "code",
   "execution_count": 5,
   "metadata": {},
   "outputs": [
    {
     "name": "stdout",
     "output_type": "stream",
     "text": [
      "[[0.99999987 0.99999897 0.99999929]\n",
      " [0.99999992 0.99999932 0.9999995 ]\n",
      " [0.99999992 0.99999931 0.9999995 ]]\n"
     ]
    }
   ],
   "source": [
    "# Initialization\n",
    "np.random.seed(1)       \n",
    "\n",
    "# Connect Input- with Hidden-Layer\n",
    "\n",
    "# How many input values are there?\n",
    "W0 = np.random.random((20,30)) \n",
    "\n",
    "# How many output values?\n",
    "W1 = np.random.random((30,3))\n",
    "\n",
    "# Connect Hidden- with Output-Layer\n",
    "L0 = X              # Input Layer\n",
    "L1 = layer(L0, W0)  # Hidden Layer\n",
    "L3 = layer(L1, W1)  # Output Layer\n",
    "print(L3)\n",
    "\n",
    "# Result\n",
    "#[[0.99999987 0.99999897 0.99999929]\n",
    "# [0.99999992 0.99999932 0.9999995 ]\n",
    "# [0.99999992 0.99999931 0.9999995 ]]\n"
   ]
  },
  {
   "cell_type": "markdown",
   "metadata": {},
   "source": [
    "The actual heart piece. Implement the backpropagation algorithm over this neural network. For this:\n",
    "\n",
    "1. calculate the result, i.e. perform forward propagation\n",
    "2. determine the error between the result and Y\n",
    "3. determine the delta with which the weights between hidden and output layer have to be adjusted\n",
    "4. determine the delta with which the weights between hidden and input layer have to be adjusted\n",
    "5. repeat the whole process until the error is smaller than 0.05!\n",
    "\n",
    "Translated with www.DeepL.com/Translator (free version)"
   ]
  },
  {
   "cell_type": "code",
   "execution_count": 6,
   "metadata": {},
   "outputs": [
    {
     "name": "stdout",
     "output_type": "stream",
     "text": [
      "0 Error: 0.6666664684\n",
      "1 Error: 0.6503894061\n",
      "2 Error: 0.3335681669\n",
      "3 Error: 0.4867302325\n",
      "4 Error: 0.3536089576\n",
      "5 Error: 0.6293031754\n",
      "6 Error: 0.3334431881\n",
      "7 Error: 0.4440772318\n",
      "8 Error: 0.3807556547\n",
      "9 Error: 0.5949650886\n",
      "10 Error: 0.3336176144\n",
      "11 Error: 0.4640487907\n",
      "12 Error: 0.3804701154\n",
      "13 Error: 0.4338579621\n",
      "14 Error: 0.4366659163\n",
      "15 Error: 0.5364421192\n",
      "16 Error: 0.3282919466\n",
      "17 Error: 0.3681126259\n",
      "18 Error: 0.4232907592\n",
      "19 Error: 0.4166501452\n",
      "20 Error: 0.3251435298\n",
      "21 Error: 0.3357334909\n",
      "22 Error: 0.4708925884\n",
      "23 Error: 0.4321874019\n",
      "24 Error: 0.2812991973\n",
      "25 Error: 0.3095652585\n",
      "26 Error: 0.4174464004\n",
      "27 Error: 0.4221022478\n",
      "28 Error: 0.2874040553\n",
      "29 Error: 0.3037405227\n",
      "30 Error: 0.3609591109\n",
      "31 Error: 0.3875065604\n",
      "32 Error: 0.2667495872\n",
      "33 Error: 0.2574757519\n",
      "34 Error: 0.2754806017\n",
      "35 Error: 0.3220110653\n",
      "36 Error: 0.2397647607\n",
      "37 Error: 0.2271811787\n",
      "38 Error: 0.2492692687\n",
      "39 Error: 0.3076096039\n",
      "40 Error: 0.2450872762\n",
      "41 Error: 0.2198637231\n",
      "42 Error: 0.2350678929\n",
      "43 Error: 0.2895619432\n",
      "44 Error: 0.2381298697\n",
      "45 Error: 0.2116731928\n",
      "46 Error: 0.2230555777\n",
      "47 Error: 0.2674073756\n",
      "48 Error: 0.2248360351\n",
      "49 Error: 0.2044752094\n",
      "50 Error: 0.2071593222\n",
      "51 Error: 0.2396764538\n",
      "52 Error: 0.2042764731\n",
      "53 Error: 0.1954958385\n",
      "54 Error: 0.1825093049\n",
      "55 Error: 0.1998242729\n",
      "56 Error: 0.1643151949\n",
      "57 Error: 0.1624336660\n",
      "58 Error: 0.1363130235\n",
      "59 Error: 0.1446489018\n",
      "60 Error: 0.1236125403\n",
      "61 Error: 0.1290887927\n",
      "62 Error: 0.1085617619\n",
      "63 Error: 0.1025961358\n",
      "64 Error: 0.0804729922\n",
      "65 Error: 0.0615762994\n",
      "66 Error: 0.0515166031\n",
      "67 Error: 0.0491870889\n"
     ]
    },
    {
     "data": {
      "image/png": "[encoded data removed]",
      "text/plain": [
       "<Figure size 432x288 with 1 Axes>"
      ]
     },
     "metadata": {
      "needs_background": "light"
     },
     "output_type": "display_data"
    }
   ],
   "source": [
    "\n",
    "def backpropagation(X, W0, W1, iterations=60000):\n",
    "    errA = []\n",
    "\n",
    "    for i in range(iterations):\n",
    "        \n",
    "        # connect the layers and do feed forward\n",
    "        L0 = X\n",
    "        L1 = layer(L0, W0)\n",
    "        L2 = layer(L1, W1)\n",
    "\n",
    "        # calculate the error on L2\n",
    "        L2_err = Y - L2\n",
    "        # delta\n",
    "        L2_delta = L2_err * sigmoid_d(L2)\n",
    "\n",
    "        # adjust the weight W1\n",
    "        W1 += np.dot(L1.T, L2_delta)\n",
    "        \n",
    "        \n",
    "        err = np.mean(np.abs(L2_err))\n",
    "        print(\"%s Error: %6.10f\" % (i, err))\n",
    "        errA.append(err)\n",
    "            \n",
    "        # training is good enough    \n",
    "        if np.mean(np.abs(L2_err)) < 0.05:\n",
    "            break\n",
    "\n",
    "        # calculate the error on L1    \n",
    "        L1_err = np.dot(L2_delta, W1.T)\n",
    "        # delta on L1    \n",
    "        L1_delta = L1_err * sigmoid_d(L1)\n",
    "        # adjust W0\n",
    "        W0 += np.dot(L0.T, L1_delta)\n",
    "    return errA, W0, W1\n",
    "\n",
    "error, W0, W1 = backpropagation(X,W0,W1)\n",
    "plt.plot(error)\n",
    "plt.show()"
   ]
  },
  {
   "cell_type": "markdown",
   "metadata": {},
   "source": [
    "Time for testing. Let's see if the model can now detect deviations and classify them correctly.\n",
    "There are the following deviations:"
   ]
  },
  {
   "cell_type": "code",
   "execution_count": 7,
   "metadata": {},
   "outputs": [
    {
     "name": "stdout",
     "output_type": "stream",
     "text": [
      "[[0.94719915 0.01180368 0.005247  ]]\n"
     ]
    }
   ],
   "source": [
    "# Test1\n",
    "L0 = np.array([[0,0,1,0,\n",
    "                0,1,1,0,\n",
    "                0,0,1,0,\n",
    "                0,0,1,0,\n",
    "                0,0,0,0]])\n",
    "L1 = layer(L0, W0)\n",
    "L2 = layer(L1, W1)\n",
    "\n",
    "print(L2)\n",
    "# Ausgabe etwas wie\n",
    "# [[0.95764431 0.02022213 0.00282105]]\n"
   ]
  },
  {
   "cell_type": "markdown",
   "metadata": {},
   "source": [
    "Test 2"
   ]
  },
  {
   "cell_type": "code",
   "execution_count": 8,
   "metadata": {},
   "outputs": [
    {
     "name": "stdout",
     "output_type": "stream",
     "text": [
      "[[0.13361779 0.37698421 0.0782702 ]]\n"
     ]
    }
   ],
   "source": [
    "# Test 2\n",
    "L0 = np.array([[0,0,1,0,\n",
    "                0,0,1,0,\n",
    "                0,0,1,0,\n",
    "                0,0,1,0,\n",
    "                0,0,1,0]])\n",
    "L1 = layer(L0, W0)\n",
    "L2 = layer(L1, W1)\n",
    "\n",
    "print(L2)\n",
    "\n",
    "# Ausgabe etwas wie\n",
    "# [[0.88233092 0.05561936 0.00533852]]"
   ]
  }
 ],
 "metadata": {
  "kernelspec": {
   "display_name": "Python 3 (ipykernel)",
   "language": "python",
   "name": "python3"
  },
  "language_info": {
   "codemirror_mode": {
    "name": "ipython",
    "version": 3
   },
   "file_extension": ".py",
   "mimetype": "text/x-python",
   "name": "python",
   "nbconvert_exporter": "python",
   "pygments_lexer": "ipython3",
   "version": "3.10.0"
  }
 },
 "nbformat": 4,
 "nbformat_minor": 2
}
