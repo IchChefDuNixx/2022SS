{
 "cells": [
  {
   "cell_type": "code",
   "execution_count": 1,
   "id": "7d8aee16",
   "metadata": {},
   "outputs": [
    {
     "name": "stdout",
     "output_type": "stream",
     "text": [
      "3\n",
      "2\n",
      "[[0. 0.]\n",
      " [0. 0.]]\n",
      "[[ 0.  1.]\n",
      " [15. -8.]]\n"
     ]
    }
   ],
   "source": [
    "import numpy as np\n",
    "\n",
    "M = np.array([[3, 5, 4, -2],\n",
    "              [1, 3, -1, 2],\n",
    "              [-3, 2, 2, -1],\n",
    "              [5, -4, 1, 1]])\n",
    "\n",
    "C = np.array([[-1,  1,  1],\n",
    "              [ 0,  1,  2],\n",
    "              [ 1, -1, -1]])\n",
    "\n",
    "# kernel size\n",
    "k = C.shape[0]\n",
    "print(k)\n",
    "# target size\n",
    "t = M.shape[0] - k + 1\n",
    "print(t)\n",
    "# init result\n",
    "conv = np.zeros(shape=(t, t))\n",
    "print(conv)\n",
    "\n",
    "for i in range(t):\n",
    "    for j in range(t):\n",
    "        T = M[i:i + k, j:j + k]\n",
    "        conv[i, j] = np.sum(np.multiply(T, C))\n",
    "\n",
    "print(conv)\n",
    "\n",
    "-3+5+4+3-2-3-2-2\n",
    "\n",
    "a)\n",
    "Dog, eat, dog, Eat, cat, home, raining, and, I, care\n",
    "\n",
    "b)\n"
   ]
  }
 ],
 "metadata": {
  "kernelspec": {
   "display_name": "Python 3 (ipykernel)",
   "language": "python",
   "name": "python3"
  },
  "language_info": {
   "codemirror_mode": {
    "name": "ipython",
    "version": 3
   },
   "file_extension": ".py",
   "mimetype": "text/x-python",
   "name": "python",
   "nbconvert_exporter": "python",
   "pygments_lexer": "ipython3",
   "version": "3.10.0"
  }
 },
 "nbformat": 4,
 "nbformat_minor": 5
}
