{
 "cells": [
  {
   "cell_type": "code",
   "execution_count": 1,
   "metadata": {},
   "outputs": [
    {
     "name": "stdout",
     "output_type": "stream",
     "text": [
      "    survived  pclass     sex   age  sibsp  parch     fare embarked   class  \\\n",
      "0          0       3    male  22.0      1      0   7.2500        S   Third   \n",
      "1          1       1  female  38.0      1      0  71.2833        C   First   \n",
      "2          1       3  female  26.0      0      0   7.9250        S   Third   \n",
      "3          1       1  female  35.0      1      0  53.1000        S   First   \n",
      "4          0       3    male  35.0      0      0   8.0500        S   Third   \n",
      "5          0       3    male   NaN      0      0   8.4583        Q   Third   \n",
      "6          0       1    male  54.0      0      0  51.8625        S   First   \n",
      "7          0       3    male   2.0      3      1  21.0750        S   Third   \n",
      "8          1       3  female  27.0      0      2  11.1333        S   Third   \n",
      "9          1       2  female  14.0      1      0  30.0708        C  Second   \n",
      "10         1       3  female   4.0      1      1  16.7000        S   Third   \n",
      "11         1       1  female  58.0      0      0  26.5500        S   First   \n",
      "12         0       3    male  20.0      0      0   8.0500        S   Third   \n",
      "13         0       3    male  39.0      1      5  31.2750        S   Third   \n",
      "14         0       3  female  14.0      0      0   7.8542        S   Third   \n",
      "15         1       2  female  55.0      0      0  16.0000        S  Second   \n",
      "16         0       3    male   2.0      4      1  29.1250        Q   Third   \n",
      "17         1       2    male   NaN      0      0  13.0000        S  Second   \n",
      "18         0       3  female  31.0      1      0  18.0000        S   Third   \n",
      "19         1       3  female   NaN      0      0   7.2250        C   Third   \n",
      "\n",
      "      who  adult_male deck  embark_town alive  alone  \n",
      "0     man        True  NaN  Southampton    no  False  \n",
      "1   woman       False    C    Cherbourg   yes  False  \n",
      "2   woman       False  NaN  Southampton   yes   True  \n",
      "3   woman       False    C  Southampton   yes  False  \n",
      "4     man        True  NaN  Southampton    no   True  \n",
      "5     man        True  NaN   Queenstown    no   True  \n",
      "6     man        True    E  Southampton    no   True  \n",
      "7   child       False  NaN  Southampton    no  False  \n",
      "8   woman       False  NaN  Southampton   yes  False  \n",
      "9   child       False  NaN    Cherbourg   yes  False  \n",
      "10  child       False    G  Southampton   yes  False  \n",
      "11  woman       False    C  Southampton   yes   True  \n",
      "12    man        True  NaN  Southampton    no   True  \n",
      "13    man        True  NaN  Southampton    no  False  \n",
      "14  child       False  NaN  Southampton    no   True  \n",
      "15  woman       False  NaN  Southampton   yes   True  \n",
      "16  child       False  NaN   Queenstown    no  False  \n",
      "17    man        True  NaN  Southampton   yes   True  \n",
      "18  woman       False  NaN  Southampton    no  False  \n",
      "19  woman       False  NaN    Cherbourg   yes   True  \n"
     ]
    }
   ],
   "source": [
    "import seaborn as sb # From this package we will load the data.\n",
    "import pandas as pd # We need this package to use dataframes. They are quite handy!\n",
    "import numpy as np # I am sure we need it somewhere.. \n",
    "\n",
    "# First, lets load the datat set titanic and lets have a short look inside.\n",
    "titanic = sb.load_dataset('titanic')\n",
    "print(titanic[0:20])"
   ]
  },
  {
   "cell_type": "code",
   "execution_count": 2,
   "metadata": {
    "scrolled": true
   },
   "outputs": [
    {
     "name": "stdout",
     "output_type": "stream",
     "text": [
      "survived       891\n",
      "pclass         891\n",
      "sex            891\n",
      "age            714\n",
      "sibsp          891\n",
      "parch          891\n",
      "fare           891\n",
      "embarked       889\n",
      "class          891\n",
      "who            891\n",
      "adult_male     891\n",
      "deck           203\n",
      "embark_town    889\n",
      "alive          891\n",
      "alone          891\n",
      "dtype: int64\n"
     ]
    }
   ],
   "source": [
    "# Alright. Lets see if every row has a value or if there are voids\n",
    "print(titanic.count())"
   ]
  },
  {
   "cell_type": "code",
   "execution_count": 3,
   "metadata": {},
   "outputs": [
    {
     "name": "stdout",
     "output_type": "stream",
     "text": [
      "survived       0.383838\n",
      "pclass         2.308642\n",
      "age           29.699118\n",
      "sibsp          0.523008\n",
      "parch          0.381594\n",
      "fare          32.204208\n",
      "adult_male     0.602694\n",
      "alone          0.602694\n",
      "dtype: float64\n"
     ]
    }
   ],
   "source": [
    "# So what are the mean values?\n",
    "print(titanic.mean())"
   ]
  },
  {
   "cell_type": "code",
   "execution_count": 4,
   "metadata": {
    "scrolled": true
   },
   "outputs": [
    {
     "name": "stdout",
     "output_type": "stream",
     "text": [
      "survived                                                    342\n",
      "pclass                                                     2057\n",
      "sex           malefemalefemalefemalemalemalemalemalefemalefe...\n",
      "age                                                     21205.2\n",
      "sibsp                                                       466\n",
      "parch                                                       340\n",
      "fare                                                    28693.9\n",
      "who           manwomanwomanwomanmanmanmanchildwomanchildchil...\n",
      "adult_male                                                  537\n",
      "alive         noyesyesyesnonononoyesyesyesyesnononoyesnoyesn...\n",
      "alone                                                       537\n",
      "dtype: object\n"
     ]
    }
   ],
   "source": [
    "# And what if we sum them?\n",
    "print(titanic.sum())"
   ]
  },
  {
   "cell_type": "code",
   "execution_count": 5,
   "metadata": {
    "scrolled": true
   },
   "outputs": [
    {
     "name": "stdout",
     "output_type": "stream",
     "text": [
      "--------------------------------------------------------------------------------- gender means\n",
      "        survived    pclass        age     sibsp     parch       fare  \\\n",
      "sex                                                                    \n",
      "female  0.742038  2.159236  27.915709  0.694268  0.649682  44.479818   \n",
      "male    0.188908  2.389948  30.726645  0.429809  0.235702  25.523893   \n",
      "\n",
      "        adult_male     alone  \n",
      "sex                           \n",
      "female    0.000000  0.401274  \n",
      "male      0.930676  0.712305  \n",
      "--------------------------------------------------------------------------------- gender counts\n",
      "        survived  pclass  age  sibsp  parch  fare  embarked  class  who  \\\n",
      "sex                                                                       \n",
      "female       314     314  261    314    314   314       312    314  314   \n",
      "male         577     577  453    577    577   577       577    577  577   \n",
      "\n",
      "        adult_male  deck  embark_town  alive  alone  \n",
      "sex                                                  \n",
      "female         314    97          312    314    314  \n",
      "male           577   106          577    577    577  \n",
      "--------------------------------------------------------------------------------- gender sums\n",
      "        survived  pclass       age  sibsp  parch        fare  adult_male  \\\n",
      "sex                                                                        \n",
      "female       233     678   7286.00    218    204  13966.6628           0   \n",
      "male         109    1379  13919.17    248    136  14727.2865         537   \n",
      "\n",
      "        alone  \n",
      "sex            \n",
      "female    126  \n",
      "male      411  \n"
     ]
    }
   ],
   "source": [
    "# Lets see the differences between men and women\n",
    "print('--------------------------------------------------------------------------------- gender means')\n",
    "print(titanic.groupby('sex').mean())\n",
    "print('--------------------------------------------------------------------------------- gender counts')\n",
    "print(titanic.groupby('sex').count())\n",
    "print('--------------------------------------------------------------------------------- gender sums')\n",
    "print(titanic.groupby('sex').sum())\n"
   ]
  },
  {
   "cell_type": "code",
   "execution_count": 6,
   "metadata": {},
   "outputs": [
    {
     "name": "stdout",
     "output_type": "stream",
     "text": [
      "--------------------------------------------------------------------------------- pclass means\n",
      "        survived        age     sibsp     parch       fare  adult_male  \\\n",
      "pclass                                                                   \n",
      "1       0.629630  38.233441  0.416667  0.356481  84.154687    0.550926   \n",
      "2       0.472826  29.877630  0.402174  0.380435  20.662183    0.538043   \n",
      "3       0.242363  25.140620  0.615071  0.393075  13.675550    0.649695   \n",
      "\n",
      "           alone  \n",
      "pclass            \n",
      "1       0.504630  \n",
      "2       0.565217  \n",
      "3       0.659878  \n",
      "--------------------------------------------------------------------------------- pclass counts\n",
      "        survived  sex  age  sibsp  parch  fare  embarked  class  who  \\\n",
      "pclass                                                                 \n",
      "1            216  216  186    216    216   216       214    216  216   \n",
      "2            184  184  173    184    184   184       184    184  184   \n",
      "3            491  491  355    491    491   491       491    491  491   \n",
      "\n",
      "        adult_male  deck  embark_town  alive  alone  \n",
      "pclass                                               \n",
      "1              216   175          214    216    216  \n",
      "2              184    16          184    184    184  \n",
      "3              491    12          491    491    491  \n",
      "--------------------------------------------------------------------------------- pclass sums\n",
      "        survived      age  sibsp  parch        fare  adult_male  alone\n",
      "pclass                                                                \n",
      "1            136  7111.42     90     77  18177.4125         119    109\n",
      "2             87  5168.83     74     70   3801.8417          99    104\n",
      "3            119  8924.92    302    193   6714.6951         319    324\n"
     ]
    }
   ],
   "source": [
    "# And between the classes\n",
    "print('--------------------------------------------------------------------------------- pclass means')\n",
    "print(titanic.groupby('pclass').mean())\n",
    "print('--------------------------------------------------------------------------------- pclass counts')\n",
    "print(titanic.groupby('pclass').count())\n",
    "print('--------------------------------------------------------------------------------- pclass sums')\n",
    "print(titanic.groupby('pclass').sum())"
   ]
  },
  {
   "cell_type": "code",
   "execution_count": 7,
   "metadata": {},
   "outputs": [
    {
     "name": "stdout",
     "output_type": "stream",
     "text": [
      "class      First    Second     Third\n",
      "sex                                 \n",
      "female  0.968085  0.921053  0.500000\n",
      "male    0.368852  0.157407  0.135447\n"
     ]
    }
   ],
   "source": [
    "# What gender survived in which class?\n",
    "print(titanic.pivot_table('survived','sex','class'))"
   ]
  },
  {
   "cell_type": "code",
   "execution_count": 8,
   "metadata": {},
   "outputs": [
    {
     "name": "stdout",
     "output_type": "stream",
     "text": [
      "0      (17.0, 100.0]\n",
      "1      (17.0, 100.0]\n",
      "2      (17.0, 100.0]\n",
      "3      (17.0, 100.0]\n",
      "4      (17.0, 100.0]\n",
      "           ...      \n",
      "886    (17.0, 100.0]\n",
      "887    (17.0, 100.0]\n",
      "888              NaN\n",
      "889    (17.0, 100.0]\n",
      "890    (17.0, 100.0]\n",
      "Name: age, Length: 891, dtype: category\n",
      "Categories (2, interval[int64]): [(0, 17] < (17, 100]]\n",
      "----------------\n",
      "class                First    Second     Third\n",
      "sex    age                                    \n",
      "female (0, 17]    0.875000  1.000000  0.542857\n",
      "       (17, 100]  0.974026  0.903226  0.417910\n",
      "male   (0, 17]    1.000000  0.818182  0.232558\n",
      "       (17, 100]  0.371134  0.068182  0.133333\n"
     ]
    }
   ],
   "source": [
    "# Make categories from the age\n",
    "age_range = pd.cut(titanic['age'],[0,17,100])\n",
    "print(age_range)\n",
    "print('----------------')\n",
    "print(titanic.pivot_table('survived',['sex',age_range],'class'))"
   ]
  },
  {
   "cell_type": "code",
   "execution_count": 9,
   "metadata": {
    "scrolled": true
   },
   "outputs": [
    {
     "name": "stdout",
     "output_type": "stream",
     "text": [
      "0.23.2\n",
      "   survived  pclass     sex   age  sibsp  parch     fare embarked   class  \\\n",
      "0         0       3    male  22.0      1      0   7.2500        S   Third   \n",
      "1         1       1  female  38.0      1      0  71.2833        C   First   \n",
      "2         1       3  female  26.0      0      0   7.9250        S   Third   \n",
      "3         1       1  female  35.0      1      0  53.1000        S   First   \n",
      "4         0       3    male  35.0      0      0   8.0500        S   Third   \n",
      "5         0       3    male   NaN      0      0   8.4583        Q   Third   \n",
      "6         0       1    male  54.0      0      0  51.8625        S   First   \n",
      "7         0       3    male   2.0      3      1  21.0750        S   Third   \n",
      "8         1       3  female  27.0      0      2  11.1333        S   Third   \n",
      "9         1       2  female  14.0      1      0  30.0708        C  Second   \n",
      "\n",
      "     who  adult_male deck  embark_town alive  alone  encoded_sex  \\\n",
      "0    man        True  NaN  Southampton    no  False            1   \n",
      "1  woman       False    C    Cherbourg   yes  False            0   \n",
      "2  woman       False  NaN  Southampton   yes   True            0   \n",
      "3  woman       False    C  Southampton   yes  False            0   \n",
      "4    man        True  NaN  Southampton    no   True            1   \n",
      "5    man        True  NaN   Queenstown    no   True            1   \n",
      "6    man        True    E  Southampton    no   True            1   \n",
      "7  child       False  NaN  Southampton    no  False            1   \n",
      "8  woman       False  NaN  Southampton   yes  False            0   \n",
      "9  child       False  NaN    Cherbourg   yes  False            0   \n",
      "\n",
      "   encoded_class  encoded_age  \n",
      "0              2         22.0  \n",
      "1              0         38.0  \n",
      "2              2         26.0  \n",
      "3              0         35.0  \n",
      "4              2         35.0  \n",
      "5              2         -1.0  \n",
      "6              0         54.0  \n",
      "7              2          2.0  \n",
      "8              2         27.0  \n",
      "9              1         14.0  \n"
     ]
    }
   ],
   "source": [
    "# Lets do a first Decision Tree\n",
    "from sklearn.tree import DecisionTreeClassifier\n",
    "import sklearn\n",
    "from sklearn import tree\n",
    "from sklearn import preprocessing\n",
    "\n",
    "print(sklearn.__version__)\n",
    "\n",
    "# https://scikit-learn.org/stable/modules/generated/sklearn.tree.DecisionTreeClassifier.html\n",
    "# All paramaters taken here are defaults\n",
    "dtree = tree.DecisionTreeClassifier(\n",
    "    criterion='gini', # {“gini”, “entropy”}\n",
    "    splitter='best', # {“best”, “random”} \n",
    "    max_depth=None, # The maximum depth of the tree. If None, then nodes are expanded until all leaves are pure or until all leaves contain less than min_samples_split samples.\n",
    "    min_samples_split=2, # The minimum number of samples required to split an internal node \n",
    "    min_samples_leaf=1, # The minimum number of samples required to be at a leaf node. \n",
    "    min_weight_fraction_leaf=0.0, # The minimum weighted fraction of the sum total of weights (of all the input samples) required to be at a leaf node.\n",
    "    max_features=None, # The number of features to consider when looking for the best split\n",
    "    max_leaf_nodes=None, #Grow a tree with max_leaf_nodes in best-first fashion. \n",
    "    min_impurity_decrease=0.0 # A node will be split if this split induces a decrease of the impurity greater than or equal to this value. \n",
    "    )\n",
    "\n",
    "# transform female into 0 and male into 1 using an extra column\n",
    "sex_encoder = preprocessing.LabelEncoder()\n",
    "sex_encoder.fit(['female','male', np.nan])\n",
    "titanic['encoded_sex']=sex_encoder.transform(titanic['sex'])\n",
    "\n",
    "# same for class\n",
    "class_encoder = preprocessing.LabelEncoder()\n",
    "class_encoder.fit(['First','Second','Third', np.nan])\n",
    "titanic['encoded_class']=class_encoder.transform(titanic['class'])\n",
    "\n",
    "# kick the nans out\n",
    "titanic['encoded_age']=titanic['age'].replace(np.nan,-1)\n",
    "\n",
    "print(titanic[:10])\n",
    "\n",
    "dtree = dtree.fit(titanic[['encoded_sex','encoded_age','encoded_class']],titanic[['survived']])\n"
   ]
  },
  {
   "cell_type": "code",
   "execution_count": 10,
   "metadata": {},
   "outputs": [
    {
     "name": "stdout",
     "output_type": "stream",
     "text": [
      "[1]\n"
     ]
    },
    {
     "ename": "ModuleNotFoundError",
     "evalue": "No module named 'graphviz'",
     "output_type": "error",
     "traceback": [
      "\u001b[1;31m---------------------------------------------------------------------------\u001b[0m",
      "\u001b[1;31mModuleNotFoundError\u001b[0m                       Traceback (most recent call last)",
      "\u001b[1;32m<ipython-input-10-ae3cf7cce8b7>\u001b[0m in \u001b[0;36m<module>\u001b[1;34m\u001b[0m\n\u001b[0;32m      4\u001b[0m \u001b[1;33m\u001b[0m\u001b[0m\n\u001b[0;32m      5\u001b[0m \u001b[1;31m# and print the tree to check was has happened\u001b[0m\u001b[1;33m\u001b[0m\u001b[1;33m\u001b[0m\u001b[1;33m\u001b[0m\u001b[0m\n\u001b[1;32m----> 6\u001b[1;33m \u001b[1;32mimport\u001b[0m \u001b[0mgraphviz\u001b[0m\u001b[1;33m\u001b[0m\u001b[1;33m\u001b[0m\u001b[0m\n\u001b[0m\u001b[0;32m      7\u001b[0m dot_data = tree.export_graphviz(dtree, \n\u001b[0;32m      8\u001b[0m                                 \u001b[0mout_file\u001b[0m\u001b[1;33m=\u001b[0m\u001b[1;32mNone\u001b[0m\u001b[1;33m,\u001b[0m\u001b[1;33m\u001b[0m\u001b[1;33m\u001b[0m\u001b[0m\n",
      "\u001b[1;31mModuleNotFoundError\u001b[0m: No module named 'graphviz'"
     ]
    }
   ],
   "source": [
    "# now we can classify samples\n",
    "# sex, age, class predicting survived\n",
    "print(dtree.predict([[0,10,0]]))\n",
    "\n",
    "# and print the tree to check was has happened\n",
    "import graphviz \n",
    "dot_data = tree.export_graphviz(dtree, \n",
    "                                out_file=None,\n",
    "                                feature_names=['sex','age','class'],  \n",
    "                                class_names=['dead','alive'],  \n",
    "                                filled=True, rounded=True,  \n",
    "                                special_characters=True)   \n",
    "\n",
    "display(graphviz.Source(dot_data))"
   ]
  },
  {
   "cell_type": "code",
   "execution_count": null,
   "metadata": {},
   "outputs": [
    {
     "name": "stdout",
     "output_type": "stream",
     "text": [
      "     prediction  result\n",
      "0             0       0\n",
      "1             1       1\n",
      "2             1       1\n",
      "3             1       1\n",
      "4             0       0\n",
      "..          ...     ...\n",
      "886           0       0\n",
      "887           1       1\n",
      "888           1       0\n",
      "889           1       1\n",
      "890           0       0\n",
      "\n",
      "[891 rows x 2 columns]\n",
      "predicted and actual deaths in total: \n",
      "prediction    297\n",
      "result        342\n",
      "dtype: int64\n",
      "Correct predictions: 784 total, 88.08988764044943%\n",
      "False predictions: 107 total, 12.02247191011236%\n",
      "Erronously predicted people alive 31\n",
      "Erronously predicted people dead 76\n"
     ]
    }
   ],
   "source": [
    "# Now we want to find out, how good the prediction is.\n",
    "prediction_array=dtree.predict(titanic[['encoded_sex','encoded_age','encoded_class']])\n",
    "prediction_dataframe=pd.DataFrame(data=prediction_array, columns=[\"prediction\"])\n",
    "prediction_dataframe['result']=titanic['survived']\n",
    "\n",
    "print(prediction_dataframe)\n",
    "print(\"predicted and actual deaths in total: \")\n",
    "print(prediction_dataframe.apply(np.sum, axis=0))\n",
    "\n",
    "false_deaths=0\n",
    "false_alives=0\n",
    "false_predictions=0\n",
    "correct_predictions=0\n",
    "      \n",
    "for ind in prediction_dataframe.index:\n",
    "      if (prediction_dataframe['result'][ind]==prediction_dataframe['prediction'][ind]):\n",
    "          correct_predictions+=1\n",
    "      else:\n",
    "          false_predictions+=1\n",
    "      if(prediction_dataframe['result'][ind]!=prediction_dataframe['prediction'][ind] and prediction_dataframe['prediction'][ind]==0):\n",
    "          false_deaths+=1\n",
    "      if(prediction_dataframe['result'][ind]!=prediction_dataframe['prediction'][ind] and prediction_dataframe['prediction'][ind]==1):\n",
    "          false_alives+=1\n",
    "    \n",
    "print(\"Correct predictions: \"+str(correct_predictions)+\" total, \"+str(correct_predictions*100/890)+\"%\")\n",
    "print(\"False predictions: \"+str(false_predictions)+\" total, \"+str(false_predictions*100/890)+\"%\")\n",
    "print(\"Erronously predicted people alive \"+str(false_alives))\n",
    "print(\"Erronously predicted people dead \"+str(false_deaths))"
   ]
  },
  {
   "cell_type": "code",
   "execution_count": null,
   "metadata": {
    "scrolled": true
   },
   "outputs": [
    {
     "data": {
      "image/svg+xml": "<?xml version=\"1.0\" encoding=\"UTF-8\" standalone=\"no\"?>\r\n<!DOCTYPE svg PUBLIC \"-//W3C//DTD SVG 1.1//EN\"\r\n \"http://www.w3.org/Graphics/SVG/1.1/DTD/svg11.dtd\">\r\n<!-- Generated by graphviz version 2.38.0 (20140413.2041)\r\n -->\r\n<!-- Title: Tree Pages: 1 -->\r\n<svg width=\"530pt\" height=\"314pt\"\r\n viewBox=\"0.00 0.00 529.50 314.00\" xmlns=\"http://www.w3.org/2000/svg\" xmlns:xlink=\"http://www.w3.org/1999/xlink\">\r\n<g id=\"graph0\" class=\"graph\" transform=\"scale(1 1) rotate(0) translate(4 310)\">\r\n<title>Tree</title>\r\n<polygon fill=\"white\" stroke=\"none\" points=\"-4,4 -4,-310 525.5,-310 525.5,4 -4,4\"/>\r\n<!-- 0 -->\r\n<g id=\"node1\" class=\"node\"><title>0</title>\r\n<path fill=\"#f5cfb4\" stroke=\"black\" d=\"M308.5,-306C308.5,-306 202.5,-306 202.5,-306 196.5,-306 190.5,-300 190.5,-294 190.5,-294 190.5,-235 190.5,-235 190.5,-229 196.5,-223 202.5,-223 202.5,-223 308.5,-223 308.5,-223 314.5,-223 320.5,-229 320.5,-235 320.5,-235 320.5,-294 320.5,-294 320.5,-300 314.5,-306 308.5,-306\"/>\r\n<text text-anchor=\"start\" x=\"226.5\" y=\"-290.8\" font-family=\"Helvetica,sans-Serif\" font-size=\"14.00\">sex ≤ 0.5</text>\r\n<text text-anchor=\"start\" x=\"218\" y=\"-275.8\" font-family=\"Helvetica,sans-Serif\" font-size=\"14.00\">gini = 0.473</text>\r\n<text text-anchor=\"start\" x=\"208\" y=\"-260.8\" font-family=\"Helvetica,sans-Serif\" font-size=\"14.00\">samples = 891</text>\r\n<text text-anchor=\"start\" x=\"198.5\" y=\"-245.8\" font-family=\"Helvetica,sans-Serif\" font-size=\"14.00\">value = [549, 342]</text>\r\n<text text-anchor=\"start\" x=\"214.5\" y=\"-230.8\" font-family=\"Helvetica,sans-Serif\" font-size=\"14.00\">class = dead</text>\r\n</g>\r\n<!-- 1 -->\r\n<g id=\"node2\" class=\"node\"><title>1</title>\r\n<path fill=\"#7ebfee\" stroke=\"black\" d=\"M232.5,-187C232.5,-187 134.5,-187 134.5,-187 128.5,-187 122.5,-181 122.5,-175 122.5,-175 122.5,-116 122.5,-116 122.5,-110 128.5,-104 134.5,-104 134.5,-104 232.5,-104 232.5,-104 238.5,-104 244.5,-110 244.5,-116 244.5,-116 244.5,-175 244.5,-175 244.5,-181 238.5,-187 232.5,-187\"/>\r\n<text text-anchor=\"start\" x=\"149\" y=\"-171.8\" font-family=\"Helvetica,sans-Serif\" font-size=\"14.00\">class ≤ 1.5</text>\r\n<text text-anchor=\"start\" x=\"146\" y=\"-156.8\" font-family=\"Helvetica,sans-Serif\" font-size=\"14.00\">gini = 0.383</text>\r\n<text text-anchor=\"start\" x=\"136\" y=\"-141.8\" font-family=\"Helvetica,sans-Serif\" font-size=\"14.00\">samples = 314</text>\r\n<text text-anchor=\"start\" x=\"130.5\" y=\"-126.8\" font-family=\"Helvetica,sans-Serif\" font-size=\"14.00\">value = [81, 233]</text>\r\n<text text-anchor=\"start\" x=\"144.5\" y=\"-111.8\" font-family=\"Helvetica,sans-Serif\" font-size=\"14.00\">class = alive</text>\r\n</g>\r\n<!-- 0&#45;&gt;1 -->\r\n<g id=\"edge1\" class=\"edge\"><title>0&#45;&gt;1</title>\r\n<path fill=\"none\" stroke=\"black\" d=\"M230.52,-222.907C225.103,-214.105 219.317,-204.703 213.723,-195.612\"/>\r\n<polygon fill=\"black\" stroke=\"black\" points=\"216.658,-193.703 208.436,-187.021 210.696,-197.372 216.658,-193.703\"/>\r\n<text text-anchor=\"middle\" x=\"202.645\" y=\"-207.641\" font-family=\"Helvetica,sans-Serif\" font-size=\"14.00\">True</text>\r\n</g>\r\n<!-- 4 -->\r\n<g id=\"node5\" class=\"node\"><title>4</title>\r\n<path fill=\"#eb9e67\" stroke=\"black\" d=\"M380.5,-187C380.5,-187 274.5,-187 274.5,-187 268.5,-187 262.5,-181 262.5,-175 262.5,-175 262.5,-116 262.5,-116 262.5,-110 268.5,-104 274.5,-104 274.5,-104 380.5,-104 380.5,-104 386.5,-104 392.5,-110 392.5,-116 392.5,-116 392.5,-175 392.5,-175 392.5,-181 386.5,-187 380.5,-187\"/>\r\n<text text-anchor=\"start\" x=\"293\" y=\"-171.8\" font-family=\"Helvetica,sans-Serif\" font-size=\"14.00\">class ≤ 0.5</text>\r\n<text text-anchor=\"start\" x=\"290\" y=\"-156.8\" font-family=\"Helvetica,sans-Serif\" font-size=\"14.00\">gini = 0.306</text>\r\n<text text-anchor=\"start\" x=\"280\" y=\"-141.8\" font-family=\"Helvetica,sans-Serif\" font-size=\"14.00\">samples = 577</text>\r\n<text text-anchor=\"start\" x=\"270.5\" y=\"-126.8\" font-family=\"Helvetica,sans-Serif\" font-size=\"14.00\">value = [468, 109]</text>\r\n<text text-anchor=\"start\" x=\"286.5\" y=\"-111.8\" font-family=\"Helvetica,sans-Serif\" font-size=\"14.00\">class = dead</text>\r\n</g>\r\n<!-- 0&#45;&gt;4 -->\r\n<g id=\"edge4\" class=\"edge\"><title>0&#45;&gt;4</title>\r\n<path fill=\"none\" stroke=\"black\" d=\"M280.48,-222.907C285.897,-214.105 291.683,-204.703 297.277,-195.612\"/>\r\n<polygon fill=\"black\" stroke=\"black\" points=\"300.304,-197.372 302.564,-187.021 294.342,-193.703 300.304,-197.372\"/>\r\n<text text-anchor=\"middle\" x=\"308.355\" y=\"-207.641\" font-family=\"Helvetica,sans-Serif\" font-size=\"14.00\">False</text>\r\n</g>\r\n<!-- 2 -->\r\n<g id=\"node3\" class=\"node\"><title>2</title>\r\n<path fill=\"#44a2e6\" stroke=\"black\" d=\"M101,-68C101,-68 12,-68 12,-68 6,-68 0,-62 0,-56 0,-56 0,-12 0,-12 0,-6 6,-0 12,-0 12,-0 101,-0 101,-0 107,-0 113,-6 113,-12 113,-12 113,-56 113,-56 113,-62 107,-68 101,-68\"/>\r\n<text text-anchor=\"start\" x=\"27.5\" y=\"-52.8\" font-family=\"Helvetica,sans-Serif\" font-size=\"14.00\">gini = 0.1</text>\r\n<text text-anchor=\"start\" x=\"9\" y=\"-37.8\" font-family=\"Helvetica,sans-Serif\" font-size=\"14.00\">samples = 170</text>\r\n<text text-anchor=\"start\" x=\"8\" y=\"-22.8\" font-family=\"Helvetica,sans-Serif\" font-size=\"14.00\">value = [9, 161]</text>\r\n<text text-anchor=\"start\" x=\"17.5\" y=\"-7.8\" font-family=\"Helvetica,sans-Serif\" font-size=\"14.00\">class = alive</text>\r\n</g>\r\n<!-- 1&#45;&gt;2 -->\r\n<g id=\"edge2\" class=\"edge\"><title>1&#45;&gt;2</title>\r\n<path fill=\"none\" stroke=\"black\" d=\"M136.21,-103.726C125.314,-94.3318 113.736,-84.349 102.879,-74.9883\"/>\r\n<polygon fill=\"black\" stroke=\"black\" points=\"104.981,-72.1789 95.1215,-68.2996 100.41,-77.4804 104.981,-72.1789\"/>\r\n</g>\r\n<!-- 3 -->\r\n<g id=\"node4\" class=\"node\"><title>3</title>\r\n<path fill=\"#ffffff\" stroke=\"black\" d=\"M232,-68C232,-68 143,-68 143,-68 137,-68 131,-62 131,-56 131,-56 131,-12 131,-12 131,-6 137,-0 143,-0 143,-0 232,-0 232,-0 238,-0 244,-6 244,-12 244,-12 244,-56 244,-56 244,-62 238,-68 232,-68\"/>\r\n<text text-anchor=\"start\" x=\"158.5\" y=\"-52.8\" font-family=\"Helvetica,sans-Serif\" font-size=\"14.00\">gini = 0.5</text>\r\n<text text-anchor=\"start\" x=\"140\" y=\"-37.8\" font-family=\"Helvetica,sans-Serif\" font-size=\"14.00\">samples = 144</text>\r\n<text text-anchor=\"start\" x=\"139\" y=\"-22.8\" font-family=\"Helvetica,sans-Serif\" font-size=\"14.00\">value = [72, 72]</text>\r\n<text text-anchor=\"start\" x=\"146.5\" y=\"-7.8\" font-family=\"Helvetica,sans-Serif\" font-size=\"14.00\">class = dead</text>\r\n</g>\r\n<!-- 1&#45;&gt;3 -->\r\n<g id=\"edge3\" class=\"edge\"><title>1&#45;&gt;3</title>\r\n<path fill=\"none\" stroke=\"black\" d=\"M184.989,-103.726C185.289,-95.5175 185.606,-86.8595 185.909,-78.56\"/>\r\n<polygon fill=\"black\" stroke=\"black\" points=\"189.416,-78.4207 186.284,-68.2996 182.421,-78.1651 189.416,-78.4207\"/>\r\n</g>\r\n<!-- 5 -->\r\n<g id=\"node6\" class=\"node\"><title>5</title>\r\n<path fill=\"#f4cbad\" stroke=\"black\" d=\"M369,-68C369,-68 280,-68 280,-68 274,-68 268,-62 268,-56 268,-56 268,-12 268,-12 268,-6 274,-0 280,-0 280,-0 369,-0 369,-0 375,-0 381,-6 381,-12 381,-12 381,-56 381,-56 381,-62 375,-68 369,-68\"/>\r\n<text text-anchor=\"start\" x=\"287\" y=\"-52.8\" font-family=\"Helvetica,sans-Serif\" font-size=\"14.00\">gini = 0.466</text>\r\n<text text-anchor=\"start\" x=\"277\" y=\"-37.8\" font-family=\"Helvetica,sans-Serif\" font-size=\"14.00\">samples = 122</text>\r\n<text text-anchor=\"start\" x=\"276\" y=\"-22.8\" font-family=\"Helvetica,sans-Serif\" font-size=\"14.00\">value = [77, 45]</text>\r\n<text text-anchor=\"start\" x=\"283.5\" y=\"-7.8\" font-family=\"Helvetica,sans-Serif\" font-size=\"14.00\">class = dead</text>\r\n</g>\r\n<!-- 4&#45;&gt;5 -->\r\n<g id=\"edge5\" class=\"edge\"><title>4&#45;&gt;5</title>\r\n<path fill=\"none\" stroke=\"black\" d=\"M326.383,-103.726C326.158,-95.5175 325.921,-86.8595 325.693,-78.56\"/>\r\n<polygon fill=\"black\" stroke=\"black\" points=\"329.185,-78.2 325.412,-68.2996 322.188,-78.3917 329.185,-78.2\"/>\r\n</g>\r\n<!-- 6 -->\r\n<g id=\"node7\" class=\"node\"><title>6</title>\r\n<path fill=\"#e99659\" stroke=\"black\" d=\"M509.5,-68C509.5,-68 411.5,-68 411.5,-68 405.5,-68 399.5,-62 399.5,-56 399.5,-56 399.5,-12 399.5,-12 399.5,-6 405.5,-0 411.5,-0 411.5,-0 509.5,-0 509.5,-0 515.5,-0 521.5,-6 521.5,-12 521.5,-12 521.5,-56 521.5,-56 521.5,-62 515.5,-68 509.5,-68\"/>\r\n<text text-anchor=\"start\" x=\"423\" y=\"-52.8\" font-family=\"Helvetica,sans-Serif\" font-size=\"14.00\">gini = 0.242</text>\r\n<text text-anchor=\"start\" x=\"413\" y=\"-37.8\" font-family=\"Helvetica,sans-Serif\" font-size=\"14.00\">samples = 455</text>\r\n<text text-anchor=\"start\" x=\"407.5\" y=\"-22.8\" font-family=\"Helvetica,sans-Serif\" font-size=\"14.00\">value = [391, 64]</text>\r\n<text text-anchor=\"start\" x=\"419.5\" y=\"-7.8\" font-family=\"Helvetica,sans-Serif\" font-size=\"14.00\">class = dead</text>\r\n</g>\r\n<!-- 4&#45;&gt;6 -->\r\n<g id=\"edge6\" class=\"edge\"><title>4&#45;&gt;6</title>\r\n<path fill=\"none\" stroke=\"black\" d=\"M377.024,-103.726C388.546,-94.2406 400.796,-84.1551 412.261,-74.7159\"/>\r\n<polygon fill=\"black\" stroke=\"black\" points=\"414.558,-77.3577 420.054,-68.2996 410.109,-71.9536 414.558,-77.3577\"/>\r\n</g>\r\n</g>\r\n</svg>\r\n",
      "text/plain": [
       "<graphviz.files.Source at 0x249300540c8>"
      ]
     },
     "metadata": {},
     "output_type": "display_data"
    }
   ],
   "source": [
    "# OK, since the age is making the graph explode, we can use ranges\n",
    "\n",
    "# https://scikit-learn.org/stable/modules/generated/sklearn.tree.DecisionTreeClassifier.html\n",
    "# All paramaters taken here are defaults\n",
    "dtree2 = tree.DecisionTreeClassifier(\n",
    "    criterion='gini', # {“gini”, “entropy”}\n",
    "    splitter='best', # {“best”, “random”} \n",
    "    max_depth=None, # The maximum depth of the tree. If None, then nodes are expanded until all leaves are pure or until all leaves contain less than min_samples_split samples.\n",
    "    min_samples_split=2, # The minimum number of samples required to split an internal node \n",
    "    min_samples_leaf=1, # The minimum number of samples required to be at a leaf node. \n",
    "    min_weight_fraction_leaf=0.005, # The minimum weighted fraction of the sum total of weights (of all the input samples) required to be at a leaf node.\n",
    "    max_features=None, # The number of features to consider when looking for the best split\n",
    "    max_leaf_nodes=None, #Grow a tree with max_leaf_nodes in best-first fashion. \n",
    "    min_impurity_decrease=0.01 # A node will be split if this split induces a decrease of the impurity greater than or equal to this value. \n",
    "    )\n",
    "\n",
    "titanic['ranged_age']=pd.cut(titanic['age'],[-2,0,17,100])\n",
    "titanic['ranged_age']=titanic['ranged_age'].astype('str')\n",
    "age_encoder = preprocessing.LabelEncoder()\n",
    "age_encoder.fit(titanic['ranged_age'])\n",
    "titanic['encoded_age']=age_encoder.transform(titanic['ranged_age'])\n",
    "titanic['encoded_age']=titanic['encoded_age'].replace(np.nan,-1)\n",
    "\n",
    "dtree2 = dtree2.fit(titanic[['encoded_sex','encoded_age','encoded_class']],titanic[['survived']])\n",
    "\n",
    "dot_data = tree.export_graphviz(dtree2, \n",
    "                                out_file=None,\n",
    "                                feature_names=['sex','age','class'],  \n",
    "                                class_names=['dead','alive'],  \n",
    "                                filled=True, rounded=True,  \n",
    "                                special_characters=True)   \n",
    "\n",
    "display(graphviz.Source(dot_data))"
   ]
  },
  {
   "cell_type": "code",
   "execution_count": null,
   "metadata": {
    "scrolled": true
   },
   "outputs": [
    {
     "name": "stdout",
     "output_type": "stream",
     "text": [
      "     prediction  result\n",
      "0             0       0\n",
      "1             1       1\n",
      "2             0       1\n",
      "3             1       1\n",
      "4             0       0\n",
      "..          ...     ...\n",
      "886           0       0\n",
      "887           1       1\n",
      "888           0       0\n",
      "889           0       1\n",
      "890           0       0\n",
      "\n",
      "[891 rows x 2 columns]\n",
      "predicted and actual deaths in total: \n",
      "prediction    170\n",
      "result        342\n",
      "dtype: int64\n",
      "Correct predictions: 701 total, 78.76404494382022%\n",
      "False predictions: 190 total, 21.348314606741575%\n",
      "Erronously predicted people alive 9\n",
      "Erronously predicted people dead 181\n"
     ]
    }
   ],
   "source": [
    "# Now we want to find out, how good the prediction is.\n",
    "prediction_array=dtree2.predict(titanic[['encoded_sex','encoded_age','encoded_class']])\n",
    "prediction_dataframe=pd.DataFrame(data=prediction_array, columns=[\"prediction\"])\n",
    "prediction_dataframe['result']=titanic['survived']\n",
    "\n",
    "print(prediction_dataframe)\n",
    "print(\"predicted and actual deaths in total: \")\n",
    "print(prediction_dataframe.apply(np.sum, axis=0))\n",
    "\n",
    "false_deaths=0\n",
    "false_alives=0\n",
    "false_predictions=0\n",
    "correct_predictions=0\n",
    "      \n",
    "for ind in prediction_dataframe.index:\n",
    "      if (prediction_dataframe['result'][ind]==prediction_dataframe['prediction'][ind]):\n",
    "          correct_predictions+=1\n",
    "      else:\n",
    "          false_predictions+=1\n",
    "      if(prediction_dataframe['result'][ind]!=prediction_dataframe['prediction'][ind] and prediction_dataframe['prediction'][ind]==0):\n",
    "          false_deaths+=1\n",
    "      if(prediction_dataframe['result'][ind]!=prediction_dataframe['prediction'][ind] and prediction_dataframe['prediction'][ind]==1):\n",
    "          false_alives+=1\n",
    "    \n",
    "print(\"Correct predictions: \"+str(correct_predictions)+\" total, \"+str(correct_predictions*100/890)+\"%\")\n",
    "print(\"False predictions: \"+str(false_predictions)+\" total, \"+str(false_predictions*100/890)+\"%\")\n",
    "print(\"Erronously predicted people alive \"+str(false_alives))\n",
    "print(\"Erronously predicted people dead \"+str(false_deaths))"
   ]
  },
  {
   "cell_type": "code",
   "execution_count": null,
   "metadata": {},
   "outputs": [
    {
     "data": {
      "image/svg+xml": "<?xml version=\"1.0\" encoding=\"UTF-8\" standalone=\"no\"?>\r\n<!DOCTYPE svg PUBLIC \"-//W3C//DTD SVG 1.1//EN\"\r\n \"http://www.w3.org/Graphics/SVG/1.1/DTD/svg11.dtd\">\r\n<!-- Generated by graphviz version 2.38.0 (20140413.2041)\r\n -->\r\n<!-- Title: Tree Pages: 1 -->\r\n<svg width=\"601pt\" height=\"552pt\"\r\n viewBox=\"0.00 0.00 601.00 552.00\" xmlns=\"http://www.w3.org/2000/svg\" xmlns:xlink=\"http://www.w3.org/1999/xlink\">\r\n<g id=\"graph0\" class=\"graph\" transform=\"scale(1 1) rotate(0) translate(4 548)\">\r\n<title>Tree</title>\r\n<polygon fill=\"white\" stroke=\"none\" points=\"-4,4 -4,-548 597,-548 597,4 -4,4\"/>\r\n<!-- 0 -->\r\n<g id=\"node1\" class=\"node\"><title>0</title>\r\n<path fill=\"#f5cfb4\" stroke=\"black\" d=\"M312,-544C312,-544 206,-544 206,-544 200,-544 194,-538 194,-532 194,-532 194,-473 194,-473 194,-467 200,-461 206,-461 206,-461 312,-461 312,-461 318,-461 324,-467 324,-473 324,-473 324,-532 324,-532 324,-538 318,-544 312,-544\"/>\r\n<text text-anchor=\"start\" x=\"230\" y=\"-528.8\" font-family=\"Helvetica,sans-Serif\" font-size=\"14.00\">sex ≤ 0.5</text>\r\n<text text-anchor=\"start\" x=\"209\" y=\"-513.8\" font-family=\"Helvetica,sans-Serif\" font-size=\"14.00\">entropy = 0.961</text>\r\n<text text-anchor=\"start\" x=\"211.5\" y=\"-498.8\" font-family=\"Helvetica,sans-Serif\" font-size=\"14.00\">samples = 891</text>\r\n<text text-anchor=\"start\" x=\"202\" y=\"-483.8\" font-family=\"Helvetica,sans-Serif\" font-size=\"14.00\">value = [549, 342]</text>\r\n<text text-anchor=\"start\" x=\"218\" y=\"-468.8\" font-family=\"Helvetica,sans-Serif\" font-size=\"14.00\">class = dead</text>\r\n</g>\r\n<!-- 1 -->\r\n<g id=\"node2\" class=\"node\"><title>1</title>\r\n<path fill=\"#7ebfee\" stroke=\"black\" d=\"M236,-425C236,-425 138,-425 138,-425 132,-425 126,-419 126,-413 126,-413 126,-354 126,-354 126,-348 132,-342 138,-342 138,-342 236,-342 236,-342 242,-342 248,-348 248,-354 248,-354 248,-413 248,-413 248,-419 242,-425 236,-425\"/>\r\n<text text-anchor=\"start\" x=\"152.5\" y=\"-409.8\" font-family=\"Helvetica,sans-Serif\" font-size=\"14.00\">class ≤ 1.5</text>\r\n<text text-anchor=\"start\" x=\"137\" y=\"-394.8\" font-family=\"Helvetica,sans-Serif\" font-size=\"14.00\">entropy = 0.824</text>\r\n<text text-anchor=\"start\" x=\"139.5\" y=\"-379.8\" font-family=\"Helvetica,sans-Serif\" font-size=\"14.00\">samples = 314</text>\r\n<text text-anchor=\"start\" x=\"134\" y=\"-364.8\" font-family=\"Helvetica,sans-Serif\" font-size=\"14.00\">value = [81, 233]</text>\r\n<text text-anchor=\"start\" x=\"148\" y=\"-349.8\" font-family=\"Helvetica,sans-Serif\" font-size=\"14.00\">class = alive</text>\r\n</g>\r\n<!-- 0&#45;&gt;1 -->\r\n<g id=\"edge1\" class=\"edge\"><title>0&#45;&gt;1</title>\r\n<path fill=\"none\" stroke=\"black\" d=\"M234.02,-460.907C228.603,-452.105 222.817,-442.703 217.223,-433.612\"/>\r\n<polygon fill=\"black\" stroke=\"black\" points=\"220.158,-431.703 211.936,-425.021 214.196,-435.372 220.158,-431.703\"/>\r\n<text text-anchor=\"middle\" x=\"206.145\" y=\"-445.641\" font-family=\"Helvetica,sans-Serif\" font-size=\"14.00\">True</text>\r\n</g>\r\n<!-- 4 -->\r\n<g id=\"node5\" class=\"node\"><title>4</title>\r\n<path fill=\"#eb9e67\" stroke=\"black\" d=\"M384,-425C384,-425 278,-425 278,-425 272,-425 266,-419 266,-413 266,-413 266,-354 266,-354 266,-348 272,-342 278,-342 278,-342 384,-342 384,-342 390,-342 396,-348 396,-354 396,-354 396,-413 396,-413 396,-419 390,-425 384,-425\"/>\r\n<text text-anchor=\"start\" x=\"296.5\" y=\"-409.8\" font-family=\"Helvetica,sans-Serif\" font-size=\"14.00\">class ≤ 0.5</text>\r\n<text text-anchor=\"start\" x=\"281\" y=\"-394.8\" font-family=\"Helvetica,sans-Serif\" font-size=\"14.00\">entropy = 0.699</text>\r\n<text text-anchor=\"start\" x=\"283.5\" y=\"-379.8\" font-family=\"Helvetica,sans-Serif\" font-size=\"14.00\">samples = 577</text>\r\n<text text-anchor=\"start\" x=\"274\" y=\"-364.8\" font-family=\"Helvetica,sans-Serif\" font-size=\"14.00\">value = [468, 109]</text>\r\n<text text-anchor=\"start\" x=\"290\" y=\"-349.8\" font-family=\"Helvetica,sans-Serif\" font-size=\"14.00\">class = dead</text>\r\n</g>\r\n<!-- 0&#45;&gt;4 -->\r\n<g id=\"edge4\" class=\"edge\"><title>0&#45;&gt;4</title>\r\n<path fill=\"none\" stroke=\"black\" d=\"M283.98,-460.907C289.397,-452.105 295.183,-442.703 300.777,-433.612\"/>\r\n<polygon fill=\"black\" stroke=\"black\" points=\"303.804,-435.372 306.064,-425.021 297.842,-431.703 303.804,-435.372\"/>\r\n<text text-anchor=\"middle\" x=\"311.855\" y=\"-445.641\" font-family=\"Helvetica,sans-Serif\" font-size=\"14.00\">False</text>\r\n</g>\r\n<!-- 2 -->\r\n<g id=\"node3\" class=\"node\"><title>2</title>\r\n<path fill=\"#44a2e6\" stroke=\"black\" d=\"M104,-298.5C104,-298.5 12,-298.5 12,-298.5 6,-298.5 0,-292.5 0,-286.5 0,-286.5 0,-242.5 0,-242.5 0,-236.5 6,-230.5 12,-230.5 12,-230.5 104,-230.5 104,-230.5 110,-230.5 116,-236.5 116,-242.5 116,-242.5 116,-286.5 116,-286.5 116,-292.5 110,-298.5 104,-298.5\"/>\r\n<text text-anchor=\"start\" x=\"8\" y=\"-283.3\" font-family=\"Helvetica,sans-Serif\" font-size=\"14.00\">entropy = 0.299</text>\r\n<text text-anchor=\"start\" x=\"10.5\" y=\"-268.3\" font-family=\"Helvetica,sans-Serif\" font-size=\"14.00\">samples = 170</text>\r\n<text text-anchor=\"start\" x=\"9.5\" y=\"-253.3\" font-family=\"Helvetica,sans-Serif\" font-size=\"14.00\">value = [9, 161]</text>\r\n<text text-anchor=\"start\" x=\"19\" y=\"-238.3\" font-family=\"Helvetica,sans-Serif\" font-size=\"14.00\">class = alive</text>\r\n</g>\r\n<!-- 1&#45;&gt;2 -->\r\n<g id=\"edge2\" class=\"edge\"><title>1&#45;&gt;2</title>\r\n<path fill=\"none\" stroke=\"black\" d=\"M142.244,-341.907C129.226,-330.101 115.021,-317.217 102.047,-305.45\"/>\r\n<polygon fill=\"black\" stroke=\"black\" points=\"104.327,-302.793 94.5687,-298.667 99.6245,-307.978 104.327,-302.793\"/>\r\n</g>\r\n<!-- 3 -->\r\n<g id=\"node4\" class=\"node\"><title>3</title>\r\n<path fill=\"#ffffff\" stroke=\"black\" d=\"M235.5,-298.5C235.5,-298.5 146.5,-298.5 146.5,-298.5 140.5,-298.5 134.5,-292.5 134.5,-286.5 134.5,-286.5 134.5,-242.5 134.5,-242.5 134.5,-236.5 140.5,-230.5 146.5,-230.5 146.5,-230.5 235.5,-230.5 235.5,-230.5 241.5,-230.5 247.5,-236.5 247.5,-242.5 247.5,-242.5 247.5,-286.5 247.5,-286.5 247.5,-292.5 241.5,-298.5 235.5,-298.5\"/>\r\n<text text-anchor=\"start\" x=\"149\" y=\"-283.3\" font-family=\"Helvetica,sans-Serif\" font-size=\"14.00\">entropy = 1.0</text>\r\n<text text-anchor=\"start\" x=\"143.5\" y=\"-268.3\" font-family=\"Helvetica,sans-Serif\" font-size=\"14.00\">samples = 144</text>\r\n<text text-anchor=\"start\" x=\"142.5\" y=\"-253.3\" font-family=\"Helvetica,sans-Serif\" font-size=\"14.00\">value = [72, 72]</text>\r\n<text text-anchor=\"start\" x=\"150\" y=\"-238.3\" font-family=\"Helvetica,sans-Serif\" font-size=\"14.00\">class = dead</text>\r\n</g>\r\n<!-- 1&#45;&gt;3 -->\r\n<g id=\"edge3\" class=\"edge\"><title>1&#45;&gt;3</title>\r\n<path fill=\"none\" stroke=\"black\" d=\"M188.388,-341.907C188.754,-331.204 189.15,-319.615 189.52,-308.776\"/>\r\n<polygon fill=\"black\" stroke=\"black\" points=\"193.022,-308.781 189.866,-298.667 186.026,-308.541 193.022,-308.781\"/>\r\n</g>\r\n<!-- 5 -->\r\n<g id=\"node6\" class=\"node\"><title>5</title>\r\n<path fill=\"#f4cbad\" stroke=\"black\" d=\"M372.5,-298.5C372.5,-298.5 283.5,-298.5 283.5,-298.5 277.5,-298.5 271.5,-292.5 271.5,-286.5 271.5,-286.5 271.5,-242.5 271.5,-242.5 271.5,-236.5 277.5,-230.5 283.5,-230.5 283.5,-230.5 372.5,-230.5 372.5,-230.5 378.5,-230.5 384.5,-236.5 384.5,-242.5 384.5,-242.5 384.5,-286.5 384.5,-286.5 384.5,-292.5 378.5,-298.5 372.5,-298.5\"/>\r\n<text text-anchor=\"start\" x=\"282\" y=\"-283.3\" font-family=\"Helvetica,sans-Serif\" font-size=\"14.00\">entropy = 0.95</text>\r\n<text text-anchor=\"start\" x=\"280.5\" y=\"-268.3\" font-family=\"Helvetica,sans-Serif\" font-size=\"14.00\">samples = 122</text>\r\n<text text-anchor=\"start\" x=\"279.5\" y=\"-253.3\" font-family=\"Helvetica,sans-Serif\" font-size=\"14.00\">value = [77, 45]</text>\r\n<text text-anchor=\"start\" x=\"287\" y=\"-238.3\" font-family=\"Helvetica,sans-Serif\" font-size=\"14.00\">class = dead</text>\r\n</g>\r\n<!-- 4&#45;&gt;5 -->\r\n<g id=\"edge5\" class=\"edge\"><title>4&#45;&gt;5</title>\r\n<path fill=\"none\" stroke=\"black\" d=\"M329.959,-341.907C329.685,-331.204 329.388,-319.615 329.11,-308.776\"/>\r\n<polygon fill=\"black\" stroke=\"black\" points=\"332.606,-308.574 328.85,-298.667 325.608,-308.753 332.606,-308.574\"/>\r\n</g>\r\n<!-- 6 -->\r\n<g id=\"node7\" class=\"node\"><title>6</title>\r\n<path fill=\"#e99659\" stroke=\"black\" d=\"M513,-306C513,-306 415,-306 415,-306 409,-306 403,-300 403,-294 403,-294 403,-235 403,-235 403,-229 409,-223 415,-223 415,-223 513,-223 513,-223 519,-223 525,-229 525,-235 525,-235 525,-294 525,-294 525,-300 519,-306 513,-306\"/>\r\n<text text-anchor=\"start\" x=\"434\" y=\"-290.8\" font-family=\"Helvetica,sans-Serif\" font-size=\"14.00\">age ≤ 0.5</text>\r\n<text text-anchor=\"start\" x=\"414\" y=\"-275.8\" font-family=\"Helvetica,sans-Serif\" font-size=\"14.00\">entropy = 0.586</text>\r\n<text text-anchor=\"start\" x=\"416.5\" y=\"-260.8\" font-family=\"Helvetica,sans-Serif\" font-size=\"14.00\">samples = 455</text>\r\n<text text-anchor=\"start\" x=\"411\" y=\"-245.8\" font-family=\"Helvetica,sans-Serif\" font-size=\"14.00\">value = [391, 64]</text>\r\n<text text-anchor=\"start\" x=\"423\" y=\"-230.8\" font-family=\"Helvetica,sans-Serif\" font-size=\"14.00\">class = dead</text>\r\n</g>\r\n<!-- 4&#45;&gt;6 -->\r\n<g id=\"edge6\" class=\"edge\"><title>4&#45;&gt;6</title>\r\n<path fill=\"none\" stroke=\"black\" d=\"M377.144,-341.907C387.872,-332.469 399.384,-322.343 410.403,-312.649\"/>\r\n<polygon fill=\"black\" stroke=\"black\" points=\"412.741,-315.254 417.938,-306.021 408.118,-309.998 412.741,-315.254\"/>\r\n</g>\r\n<!-- 7 -->\r\n<g id=\"node8\" class=\"node\"><title>7</title>\r\n<path fill=\"#f3c5a4\" stroke=\"black\" d=\"M441,-187C441,-187 349,-187 349,-187 343,-187 337,-181 337,-175 337,-175 337,-116 337,-116 337,-110 343,-104 349,-104 349,-104 441,-104 441,-104 447,-104 453,-110 453,-116 453,-116 453,-175 453,-175 453,-181 447,-187 441,-187\"/>\r\n<text text-anchor=\"start\" x=\"360.5\" y=\"-171.8\" font-family=\"Helvetica,sans-Serif\" font-size=\"14.00\">class ≤ 1.5</text>\r\n<text text-anchor=\"start\" x=\"345\" y=\"-156.8\" font-family=\"Helvetica,sans-Serif\" font-size=\"14.00\">entropy = 0.936</text>\r\n<text text-anchor=\"start\" x=\"351.5\" y=\"-141.8\" font-family=\"Helvetica,sans-Serif\" font-size=\"14.00\">samples = 54</text>\r\n<text text-anchor=\"start\" x=\"346.5\" y=\"-126.8\" font-family=\"Helvetica,sans-Serif\" font-size=\"14.00\">value = [35, 19]</text>\r\n<text text-anchor=\"start\" x=\"354\" y=\"-111.8\" font-family=\"Helvetica,sans-Serif\" font-size=\"14.00\">class = dead</text>\r\n</g>\r\n<!-- 6&#45;&gt;7 -->\r\n<g id=\"edge7\" class=\"edge\"><title>6&#45;&gt;7</title>\r\n<path fill=\"none\" stroke=\"black\" d=\"M440.061,-222.907C434.923,-214.195 429.439,-204.897 424.129,-195.893\"/>\r\n<polygon fill=\"black\" stroke=\"black\" points=\"426.992,-193.857 418.897,-187.021 420.962,-197.412 426.992,-193.857\"/>\r\n</g>\r\n<!-- 10 -->\r\n<g id=\"node11\" class=\"node\"><title>10</title>\r\n<path fill=\"#e89152\" stroke=\"black\" d=\"M581,-179.5C581,-179.5 483,-179.5 483,-179.5 477,-179.5 471,-173.5 471,-167.5 471,-167.5 471,-123.5 471,-123.5 471,-117.5 477,-111.5 483,-111.5 483,-111.5 581,-111.5 581,-111.5 587,-111.5 593,-117.5 593,-123.5 593,-123.5 593,-167.5 593,-167.5 593,-173.5 587,-179.5 581,-179.5\"/>\r\n<text text-anchor=\"start\" x=\"482\" y=\"-164.3\" font-family=\"Helvetica,sans-Serif\" font-size=\"14.00\">entropy = 0.507</text>\r\n<text text-anchor=\"start\" x=\"484.5\" y=\"-149.3\" font-family=\"Helvetica,sans-Serif\" font-size=\"14.00\">samples = 401</text>\r\n<text text-anchor=\"start\" x=\"479\" y=\"-134.3\" font-family=\"Helvetica,sans-Serif\" font-size=\"14.00\">value = [356, 45]</text>\r\n<text text-anchor=\"start\" x=\"491\" y=\"-119.3\" font-family=\"Helvetica,sans-Serif\" font-size=\"14.00\">class = dead</text>\r\n</g>\r\n<!-- 6&#45;&gt;10 -->\r\n<g id=\"edge10\" class=\"edge\"><title>6&#45;&gt;10</title>\r\n<path fill=\"none\" stroke=\"black\" d=\"M487.592,-222.907C494.07,-211.763 501.105,-199.658 507.625,-188.439\"/>\r\n<polygon fill=\"black\" stroke=\"black\" points=\"510.725,-190.072 512.723,-179.667 504.672,-186.554 510.725,-190.072\"/>\r\n</g>\r\n<!-- 8 -->\r\n<g id=\"node9\" class=\"node\"><title>8</title>\r\n<path fill=\"#65b3eb\" stroke=\"black\" d=\"M374,-68C374,-68 282,-68 282,-68 276,-68 270,-62 270,-56 270,-56 270,-12 270,-12 270,-6 276,-0 282,-0 282,-0 374,-0 374,-0 380,-0 386,-6 386,-12 386,-12 386,-56 386,-56 386,-62 380,-68 374,-68\"/>\r\n<text text-anchor=\"start\" x=\"278\" y=\"-52.8\" font-family=\"Helvetica,sans-Serif\" font-size=\"14.00\">entropy = 0.684</text>\r\n<text text-anchor=\"start\" x=\"284.5\" y=\"-37.8\" font-family=\"Helvetica,sans-Serif\" font-size=\"14.00\">samples = 11</text>\r\n<text text-anchor=\"start\" x=\"287.5\" y=\"-22.8\" font-family=\"Helvetica,sans-Serif\" font-size=\"14.00\">value = [2, 9]</text>\r\n<text text-anchor=\"start\" x=\"289\" y=\"-7.8\" font-family=\"Helvetica,sans-Serif\" font-size=\"14.00\">class = alive</text>\r\n</g>\r\n<!-- 7&#45;&gt;8 -->\r\n<g id=\"edge8\" class=\"edge\"><title>7&#45;&gt;8</title>\r\n<path fill=\"none\" stroke=\"black\" d=\"M370.052,-103.726C364.694,-94.9703 359.024,-85.7032 353.641,-76.9051\"/>\r\n<polygon fill=\"black\" stroke=\"black\" points=\"356.58,-75.0028 348.375,-68.2996 350.609,-78.6563 356.58,-75.0028\"/>\r\n</g>\r\n<!-- 9 -->\r\n<g id=\"node10\" class=\"node\"><title>9</title>\r\n<path fill=\"#eda775\" stroke=\"black\" d=\"M508,-68C508,-68 416,-68 416,-68 410,-68 404,-62 404,-56 404,-56 404,-12 404,-12 404,-6 410,-0 416,-0 416,-0 508,-0 508,-0 514,-0 520,-6 520,-12 520,-12 520,-56 520,-56 520,-62 514,-68 508,-68\"/>\r\n<text text-anchor=\"start\" x=\"412\" y=\"-52.8\" font-family=\"Helvetica,sans-Serif\" font-size=\"14.00\">entropy = 0.782</text>\r\n<text text-anchor=\"start\" x=\"418.5\" y=\"-37.8\" font-family=\"Helvetica,sans-Serif\" font-size=\"14.00\">samples = 43</text>\r\n<text text-anchor=\"start\" x=\"413.5\" y=\"-22.8\" font-family=\"Helvetica,sans-Serif\" font-size=\"14.00\">value = [33, 10]</text>\r\n<text text-anchor=\"start\" x=\"421\" y=\"-7.8\" font-family=\"Helvetica,sans-Serif\" font-size=\"14.00\">class = dead</text>\r\n</g>\r\n<!-- 7&#45;&gt;9 -->\r\n<g id=\"edge9\" class=\"edge\"><title>7&#45;&gt;9</title>\r\n<path fill=\"none\" stroke=\"black\" d=\"M419.948,-103.726C425.306,-94.9703 430.976,-85.7032 436.359,-76.9051\"/>\r\n<polygon fill=\"black\" stroke=\"black\" points=\"439.391,-78.6563 441.625,-68.2996 433.42,-75.0028 439.391,-78.6563\"/>\r\n</g>\r\n</g>\r\n</svg>\r\n",
      "text/plain": [
       "<graphviz.files.Source at 0x2492f4bf0c8>"
      ]
     },
     "metadata": {},
     "output_type": "display_data"
    }
   ],
   "source": [
    "# Also lets try the same stuff from before with entropy\n",
    "\n",
    "# https://scikit-learn.org/stable/modules/generated/sklearn.tree.DecisionTreeClassifier.html\n",
    "# All paramaters taken here are defaults\n",
    "dtree2 = tree.DecisionTreeClassifier(\n",
    "    criterion='entropy', # {“gini”, “entropy”}\n",
    "    splitter='best', # {“best”, “random”} \n",
    "    max_depth=None, # The maximum depth of the tree. If None, then nodes are expanded until all leaves are pure or until all leaves contain less than min_samples_split samples.\n",
    "    min_samples_split=2, # The minimum number of samples required to split an internal node \n",
    "    min_samples_leaf=1, # The minimum number of samples required to be at a leaf node. \n",
    "    min_weight_fraction_leaf=0.005, # The minimum weighted fraction of the sum total of weights (of all the input samples) required to be at a leaf node.\n",
    "    max_features=None, # The number of features to consider when looking for the best split\n",
    "    max_leaf_nodes=None, #Grow a tree with max_leaf_nodes in best-first fashion. \n",
    "    min_impurity_decrease=0.01 # A node will be split if this split induces a decrease of the impurity greater than or equal to this value. \n",
    "    )\n",
    "\n",
    "titanic['ranged_age']=pd.cut(titanic['age'],[-2,0,17,100])\n",
    "titanic['ranged_age']=titanic['ranged_age'].astype('str')\n",
    "age_encoder = preprocessing.LabelEncoder()\n",
    "age_encoder.fit(titanic['ranged_age'])\n",
    "titanic['encoded_age']=age_encoder.transform(titanic['ranged_age'])\n",
    "titanic['encoded_age']=titanic['encoded_age'].replace(np.nan,-1)\n",
    "\n",
    "dtree2 = dtree2.fit(titanic[['encoded_sex','encoded_age','encoded_class']],titanic[['survived']])\n",
    "\n",
    "dot_data = tree.export_graphviz(dtree2, \n",
    "                                out_file=None,\n",
    "                                feature_names=['sex','age','class'],  \n",
    "                                class_names=['dead','alive'],  \n",
    "                                filled=True, rounded=True,  \n",
    "                                special_characters=True)   \n",
    "\n",
    "display(graphviz.Source(dot_data))"
   ]
  },
  {
   "cell_type": "code",
   "execution_count": null,
   "metadata": {},
   "outputs": [
    {
     "name": "stdout",
     "output_type": "stream",
     "text": [
      "     prediction  result\n",
      "0             0       0\n",
      "1             1       1\n",
      "2             0       1\n",
      "3             1       1\n",
      "4             0       0\n",
      "..          ...     ...\n",
      "886           0       0\n",
      "887           1       1\n",
      "888           0       0\n",
      "889           0       1\n",
      "890           0       0\n",
      "\n",
      "[891 rows x 2 columns]\n",
      "predicted and actual deaths in total: \n",
      "prediction    181\n",
      "result        342\n",
      "dtype: int64\n",
      "Correct predictions: 708 total, 79.5505617977528%\n",
      "False predictions: 183 total, 20.56179775280899%\n",
      "Erronously predicted people alive 11\n",
      "Erronously predicted people dead 172\n"
     ]
    }
   ],
   "source": [
    "# Now we want to find out, how good the prediction is.\n",
    "prediction_array=dtree2.predict(titanic[['encoded_sex','encoded_age','encoded_class']])\n",
    "prediction_dataframe=pd.DataFrame(data=prediction_array, columns=[\"prediction\"])\n",
    "prediction_dataframe['result']=titanic['survived']\n",
    "\n",
    "print(prediction_dataframe)\n",
    "print(\"predicted and actual deaths in total: \")\n",
    "print(prediction_dataframe.apply(np.sum, axis=0))\n",
    "\n",
    "false_deaths=0\n",
    "false_alives=0\n",
    "false_predictions=0\n",
    "correct_predictions=0\n",
    "      \n",
    "for ind in prediction_dataframe.index:\n",
    "      if (prediction_dataframe['result'][ind]==prediction_dataframe['prediction'][ind]):\n",
    "          correct_predictions+=1\n",
    "      else:\n",
    "          false_predictions+=1\n",
    "      if(prediction_dataframe['result'][ind]!=prediction_dataframe['prediction'][ind] and prediction_dataframe['prediction'][ind]==0):\n",
    "          false_deaths+=1\n",
    "      if(prediction_dataframe['result'][ind]!=prediction_dataframe['prediction'][ind] and prediction_dataframe['prediction'][ind]==1):\n",
    "          false_alives+=1\n",
    "    \n",
    "print(\"Correct predictions: \"+str(correct_predictions)+\" total, \"+str(correct_predictions*100/890)+\"%\")\n",
    "print(\"False predictions: \"+str(false_predictions)+\" total, \"+str(false_predictions*100/890)+\"%\")\n",
    "print(\"Erronously predicted people alive \"+str(false_alives))\n",
    "print(\"Erronously predicted people dead \"+str(false_deaths))"
   ]
  },
  {
   "cell_type": "code",
   "execution_count": null,
   "metadata": {},
   "outputs": [
    {
     "name": "stdout",
     "output_type": "stream",
     "text": [
      "True Positive:  170\n",
      "True Negative:  538\n",
      "False Positive: 11\n",
      "False Negative: 172\n",
      "TPR / Sensitivity:  0.49707602339181284\n",
      "TNR / Specificity:  0.9799635701275046\n",
      "Accuracy: 0.7946127946127947\n",
      "PPR:  0.9392265193370166\n",
      "NPR:  0.7577464788732394\n",
      "F:  0.6500956022944551\n",
      "BM:  0.47703959351931746\n",
      "MK:  0.6969729982102559\n",
      "MCC:  0.5766140093339395\n"
     ]
    }
   ],
   "source": [
    "# Evaluation\n",
    "import math\n",
    "\n",
    "# Confusion Matrix\n",
    "def confusion_matrix(predicted, truth):\n",
    "    true_positive = 0\n",
    "    true_negative = 0\n",
    "    false_positive = 0\n",
    "    false_negative = 0\n",
    "\n",
    "    for i in range(0, len(predicted)):\n",
    "        if (predicted[i] == 1 and truth[i] == 1):\n",
    "            true_positive += 1\n",
    "        elif (predicted[i] == 0 and truth[i] == 0):\n",
    "            true_negative += 1\n",
    "        elif (predicted[i] == 1 and truth[i] == 0):\n",
    "            false_positive += 1\n",
    "        elif (predicted[i] == 0 and truth[i] == 1):\n",
    "            false_negative += 1\n",
    "\n",
    "    return true_positive, true_negative, false_positive, false_negative\n",
    "\n",
    "TP, TN, FP, FN = confusion_matrix(prediction_dataframe['prediction'], prediction_dataframe['result'])\n",
    "\n",
    "print('True Positive:  '  + str(TP))\n",
    "print('True Negative:  '  + str(TN))\n",
    "print('False Positive: '  + str(FP))\n",
    "print('False Negative: '  + str(FN))\n",
    "\n",
    "# TPR - 1 if the alive people are correct\n",
    "TPR=TP/(TP+FN)\n",
    "print('TPR / Sensitivity:  '  + str(TPR))\n",
    "\n",
    "# TNR - 1 if the dead people are correct\n",
    "TNR=TN/(TN+FP)\n",
    "print('TNR / Specificity:  '  + str(TNR))\n",
    "\n",
    "# Accuracy\n",
    "Acc=(TP+TN)/(TP+TN+FP+FN)\n",
    "print (\"Accuracy:\", str(Acc))\n",
    "\n",
    "# PPR\n",
    "PPR=TP/(TP+FP)\n",
    "print('PPR:  '  + str(PPR))\n",
    "\n",
    "# NPR\n",
    "NPR=TN/(FN+TN)\n",
    "print('NPR:  '  + str(NPR))\n",
    "\n",
    "# F-Score\n",
    "F=(2*TP)/(2*TP+FP+FN)\n",
    "print('F:  '  + str(F))\n",
    "\n",
    "# BM \n",
    "print('BM:  '  + str(TPR+TNR-1))\n",
    "\n",
    "# MK\n",
    "print('MK:  '  + str(PPR+NPR-1))\n",
    "\n",
    "# MCC\n",
    "MCC=(TP*TN-FP*FN)/math.sqrt((TP+FP)*(TP+FN)*(TN+FP)*(TN+FN))\n",
    "print('MCC:  '  + str(MCC))"
   ]
  }
 ],
 "metadata": {
  "kernelspec": {
   "display_name": "Python 3",
   "language": "python",
   "name": "python3"
  },
  "language_info": {
   "codemirror_mode": {
    "name": "ipython",
    "version": 3
   },
   "file_extension": ".py",
   "mimetype": "text/x-python",
   "name": "python",
   "nbconvert_exporter": "python",
   "pygments_lexer": "ipython3",
   "version": "3.8.5"
  }
 },
 "nbformat": 4,
 "nbformat_minor": 2
}
