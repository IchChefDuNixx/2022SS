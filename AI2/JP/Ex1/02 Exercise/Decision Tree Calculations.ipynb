{
 "cells": [
  {
   "cell_type": "markdown",
   "metadata": {},
   "source": [
    "# Data Set Information:\n",
    "\n",
    "A simple database containing 17 Boolean-valued attributes. The \"type\" attribute appears to be the class attribute. Here is a breakdown of which animals are in which type:\n",
    "\n",
    "Class# -- Set of animals:\n",
    "====== ====================================================\n",
    "\n",
    "1 -- (41) aardvark, antelope, bear, boar, buffalo, calf, cavy, cheetah, deer, dolphin, elephant, fruitbat, giraffe, girl, goat, gorilla, hamster, hare, leopard, lion, lynx, mink, mole, mongoose, opossum, oryx, platypus, polecat, pony, porpoise, puma, pussycat, raccoon, reindeer, seal, sealion, squirrel, vampire, vole, wallaby,wolf\n",
    "\n",
    "2 -- (20) chicken, crow, dove, duck, flamingo, gull, hawk, kiwi, lark, ostrich, parakeet, penguin, pheasant, rhea, skimmer, skua, sparrow, swan, vulture, wren\n",
    "\n",
    "3 -- (5) pitviper, seasnake, slowworm, tortoise, tuatara\n",
    "\n",
    "4 -- (13) bass, carp, catfish, chub, dogfish, haddock, herring, pike, piranha, seahorse, sole, stingray, tuna\n",
    "\n",
    "5 -- (4) frog, newt, toad\n",
    "\n",
    "6 -- (8) flea, gnat, honeybee, housefly, ladybird, moth, termite, wasp\n",
    "\n",
    "7 -- (10) clam, crab, crayfish, lobster, octopus, scorpion, seawasp, slug, starfish, worm\n",
    "\n",
    "Attribute Information:\n",
    "\n",
    "1. animal name: Unique for each instance\n",
    "2. hair: Boolean\n",
    "3. feathers: Boolean\n",
    "4. eggs: Boolean\n",
    "5. milk: Boolean\n",
    "6. airborne: Boolean\n",
    "7. aquatic: Boolean\n",
    "8. predator: Boolean\n",
    "9. toothed: Boolean\n",
    "10. backbone: Boolean\n",
    "11. breathes: Boolean\n",
    "12. venomous: Boolean\n",
    "13. fins: Boolean\n",
    "14. legs: Numeric (set of values: {0,2,4,5,6,8})\n",
    "15. tail: Boolean\n",
    "16. domestic: Boolean\n",
    "17. catsize: Boolean\n",
    "18. type: Numeric (integer values in range [1,7])\n",
    "\n"
   ]
  },
  {
   "cell_type": "code",
   "execution_count": 24,
   "metadata": {},
   "outputs": [],
   "source": [
    "\"\"\"\n",
    "Import the DecisionTreeClassifier model.\n",
    "\"\"\"\n",
    "\n",
    "#Import the DecisionTreeClassifier\n",
    "from sklearn.tree import DecisionTreeClassifier\n",
    "from sklearn.model_selection import train_test_split\n",
    "import pandas as pd\n",
    "\n",
    "\"\"\"\n",
    "Import the Zoo Dataset\n",
    "\"\"\"\n",
    "\n",
    "#Import the dataset \n",
    "dataset = pd.read_csv('zoo.csv')\n",
    "#We drop the animal names since this is not a good feature to split the data on\n",
    "dataset=dataset.drop('animal_name',axis=1)\n",
    "\n",
    "\"\"\"\n",
    "Split the data into a training and a testing set\n",
    "\"\"\"\n",
    "train, test = train_test_split(dataset,test_size=0.3, random_state=0)\n",
    "\n",
    "train_features = train.iloc[:,:-1]\n",
    "train_targets = train.iloc[:,-1]\n",
    "\n",
    "test_features = test.iloc[:,:-1]\n",
    "test_targets = test.iloc[:,-1]\n",
    "\n"
   ]
  },
  {
   "cell_type": "code",
   "execution_count": 22,
   "metadata": {},
   "outputs": [
    {
     "name": "stdout",
     "output_type": "stream",
     "text": [
      "The prediction accuracy is:  96.7741935483871 %\n"
     ]
    }
   ],
   "source": [
    "\"\"\"\n",
    "Train the model\n",
    "\"\"\"\n",
    "\n",
    "tree = DecisionTreeClassifier(criterion = 'entropy').fit(train_features, train_targets)\n",
    "\n",
    "\"\"\"\n",
    "Predict the classes of new, unseen data\n",
    "\"\"\"\n",
    "prediction = tree.predict(test_features)\n",
    "\n",
    "\n",
    "\"\"\"\n",
    "Check the accuracy\n",
    "\"\"\"\n",
    "\n",
    "print(\"The prediction accuracy is: \",tree.score(test_features,test_targets)*100,\"%\")\n"
   ]
  },
  {
   "cell_type": "code",
   "execution_count": null,
   "metadata": {},
   "outputs": [],
   "source": []
  }
 ],
 "metadata": {
  "kernelspec": {
   "display_name": "Python 3 (ipykernel)",
   "language": "python",
   "name": "python3"
  },
  "language_info": {
   "codemirror_mode": {
    "name": "ipython",
    "version": 3
   },
   "file_extension": ".py",
   "mimetype": "text/x-python",
   "name": "python",
   "nbconvert_exporter": "python",
   "pygments_lexer": "ipython3",
   "version": "3.8.10"
  }
 },
 "nbformat": 4,
 "nbformat_minor": 2
}
