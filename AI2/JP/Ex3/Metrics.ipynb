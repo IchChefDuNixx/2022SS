{
 "cells": [
  {
   "cell_type": "markdown",
   "metadata": {},
   "source": [
    "# Performance Metrics\n",
    "\n",
    "This Jupyter Notebook demonstrates both how to implement common performance metrics as well as how to interpret them using artificial data and a basic knn classifier. \n",
    "\n",
    "#### Missing library\n",
    "\n",
    "Numpy, sklearn and matplotlib are included in the Anaconda installation. Otherwise, they can be installed using pip by running the following lines separately in the command line. \n",
    "```\n",
    "pip install matplotlib\n",
    "pip install numpy\n",
    "pip install scikit-learn\n",
    "```\n",
    "The *my_plot* library is provided with this notebook and must be in the same directory as the notebook. Its purpose is to remove any code not relevant to the demonstration of performance measures such as generating the training and test datasets and plotting the graphs for visualization. \n",
    "\n",
    "\n",
    "## Setup\n",
    "\n",
    "In the setup block we first import the necessary libraries and modules. Next, we define the total number of samples that will be created by the *generate_dataset* function. \n",
    "\n",
    "*generate_dataset* requires the total number of samples, the mean and standard deviation for both x and y coordinates for two classes (x1_mean, x1_std, y1_mean, y1_std, x2_mean, x2_std, y2_mean, y2_std). The last parameter indicates the class ratio. For a ratio of 1, both classes are equally distributed, larger values shift the balance in favour of the **P**-class. For example, a ratio of 3 will see 3**P** for every **N**. \n",
    "\n",
    "*train_test_split* is a function from the sklearn package which randomly splits the dataset into training and test data according to the ratio defined by *test_size*. While it is randomly decided which sample will belong to which dataset, the class ratio is maintained in both training and test data. The *random_state* parameter can be used to initialize the RNG used for splitting. \n",
    "\n",
    "Using the *my_plot()* function we can visualize the created dataset to visually inspect the distribution and determine which issues a classifier might face. *my_plot()* can visualize 1 or 2 datasets consisting of a **P** and **N** class each. Setting the first parameter to **TRUE** will limit both x and y axis to [-10;10] for consistent visualization, otherwise they will be scaled to fit the given data. \n",
    "\n",
    "\n",
    "\n",
    "## Prepared Datasets\n",
    "\n",
    "There are a few prepared datasets in the first code cell, which can be selected by uncommenting the desired line. These are designed to highlight various issues you may face in real-life datasets. Keep in mind that those datasets are generated each time so minor variations may occur.\n",
    "\n",
    "1. A dataset designed to demonstrate the performance metrics by producing both correct and false classifications of all types.\n",
    "\n",
    "2. Identical dataset but **P** class has 10 times more samples than **N** class, showing the influence of imbalanced classes.\n",
    "\n",
    "3. Dataset with clearly separated classes which can usually be linearly separated. Can result in 100% correct classifications for **P** and **N**.\n",
    "\n",
    "4. Cross-shaped intersecting classes centered at (0,0). Balanced classes.\n",
    "\n",
    "5. Balanced dataset with both classes sharing the same x- and y-coordinate mean, but different standard deviation. **N** class is completely surrounded by **P** class.\n",
    "\n",
    "6. Same values as 5. but with a 10:1 class ratio. "
   ]
  },
  {
   "cell_type": "code",
   "execution_count": 1,
   "metadata": {},
   "outputs": [
    {
     "data": {
      "text/plain": [
       "<Figure size 640x480 with 1 Axes>"
      ]
     },
     "metadata": {},
     "output_type": "display_data"
    }
   ],
   "source": [
    "import numpy as np\n",
    "from sklearn.neighbors import KNeighborsClassifier\n",
    "from sklearn.model_selection import train_test_split\n",
    "from sklearn.linear_model import LinearRegression\n",
    "import matplotlib.pyplot as plt\n",
    "import math\n",
    "import my_plot\n",
    "\n",
    "\n",
    "count = 1000\n",
    "\n",
    "#Uncomment one dataset to use, then use \"Restart kernel and run entire Notebook\"\n",
    "\n",
    "#1 Balanced dataset with overlapping classes and mediocre accuracy of about 0.6-0.7\n",
    "#X, y = my_plot.generate_dataset(count,  1,3,1,3,  3,3,3,3, 1) \n",
    "\n",
    "#2 Unbalanced dataset with identical values as before\n",
    "#X, y = my_plot.generate_dataset(count,  1,3,1,3,  3,3,3,3, 10) \n",
    "\n",
    "\n",
    "#3 Balanced dataset with strongly separated classes and very good accuracy of more than 0.95\n",
    "#X, y = my_plot.generate_dataset(count,  5,3,5,3,  -5,3,-5,3, 1)\n",
    "\n",
    "\n",
    "#4 Balanced dataset with cross-shaped intersecting classes \n",
    "X, y = my_plot.generate_dataset(count,  0,5,0,0.1,  0,0.1,0,5, 1)\n",
    "\n",
    "\n",
    "#5 Balanced dataset with nested classes sharing the same centroid\n",
    "#X, y = my_plot.generate_dataset(count,  0,5,0,5,  0,1,0,1, 1)\n",
    "\n",
    "#6 Unbalanced dataset with nested classes sharing the same centroid \n",
    "#X, y = my_plot.generate_dataset(count,  0,5,0,5,  0,1,0,1, 10)\n",
    "\n",
    "\n",
    "\n",
    "\n",
    "\n",
    "X_train,X_test, y_train, y_test = train_test_split(X,y,test_size=0.3, random_state=42)\n",
    "\n",
    "\n",
    "X2, y2 = my_plot.generate_dataset(count,  8,8,1,1,  5,8,-3,3,  3)\n",
    "\n",
    "\n",
    "my_plot.my_plot(True, X1=X_train, y1=y_train, X2=None,y2=None)"
   ]
  },
  {
   "cell_type": "markdown",
   "metadata": {},
   "source": [
    "# Confusion Matrix\n",
    "\n",
    "The first step in evaluating our knn classifier is to create the confusion matrix. For this, we need the predicted class labels from the classifier - *predicted* - and the actual labels that were generated alongside the test data, our ground truth - *truth*. \n",
    "\n",
    "Using those two lists or arrays, we simply compare the values in *truth* and *predicted* and increment the outcome class - TP, TN, FP, FN - depending on the permutation. "
   ]
  },
  {
   "cell_type": "code",
   "execution_count": 4,
   "metadata": {},
   "outputs": [
    {
     "name": "stdout",
     "output_type": "stream",
     "text": [
      "True Positive:  146\n",
      "True Negative:  148\n",
      "False Positive: 2\n",
      "False Negative: 4\n"
     ]
    }
   ],
   "source": [
    "def confusion_matrix(predicted, truth):\n",
    "    true_positive = 0\n",
    "    true_negative = 0\n",
    "    false_positive = 0\n",
    "    false_negative = 0\n",
    "\n",
    "    for i in range(0, len(predicted)):\n",
    "        if (predicted[i] == 1 and truth[i] == 1):\n",
    "            true_positive += 1\n",
    "        elif (predicted[i] == 0 and truth[i] == 0):\n",
    "            true_negative += 1\n",
    "        elif (predicted[i] == 1 and truth[i] == 0):\n",
    "            false_positive += 1\n",
    "        elif (predicted[i] == 0 and truth[i] == 1):\n",
    "            false_negative += 1\n",
    "\n",
    "    return true_positive, true_negative, false_positive, false_negative\n",
    "\n",
    "\n",
    "\n",
    "TP, TN, FP, FN = confusion_matrix(pred, y_test)\n",
    "\n",
    "\n",
    "print('True Positive:  '  + str(TP))\n",
    "print('True Negative:  '  + str(TN))\n",
    "print('False Positive: '  + str(FP))\n",
    "print('False Negative: '  + str(FN))"
   ]
  },
  {
   "cell_type": "markdown",
   "metadata": {},
   "source": [
    "# Classification Metrics\n",
    "\n",
    "Using the values from the confusion matrix, we can now calculate basic classification metrics as well as those derived from them using the formulas given in the presentation. For derived metrics such as the F1 score with more than one way to calculate, both methods are usually within the precision of the data type as shown. "
   ]
  },
  {
   "cell_type": "code",
   "execution_count": 3,
   "metadata": {},
   "outputs": [
    {
     "name": "stdout",
     "output_type": "stream",
     "text": [
      "Accuracy: \t\t\t\t0.96\n",
      "Sensitivity (TPR): \t\t\t0.75\n",
      "Specificity (TNR): \t\t\t0.96875\n",
      "Precision (PPV): \t\t\t0.5\n",
      "\n",
      "F1 score (F1): \t\t\t\t0.6\n",
      "F1 score alternative: \t\t\t0.6\n",
      "\n",
      "Informedness: \t\t\t\t0.71875\n",
      "Markedness: \t\t\t\t0.5\n",
      "Matthews Correlation Coefficient: \t0.5930672165988061\n"
     ]
    }
   ],
   "source": [
    "import math\n",
    "\n",
    "TP = 30\n",
    "TN = 930\n",
    "FP = 30\n",
    "FN = 10\n",
    "\n",
    "#Accuracy\n",
    "ACC = (TP+TN)/(TP+TN+FP+FN)\n",
    "#Sensitivity, recall, hit rate, True Positive Rate\n",
    "TPR = TP/(TP+FN)\n",
    "#Specificity, selectivity, True Negative Rate\n",
    "TNR = TN/(TN+FP)\n",
    "#Precision, Positive Predictive Value\n",
    "PPV = TP/(TP+FP)\n",
    "\n",
    "#F score, F1 score, F measure\n",
    "F1 = 2*(PPV*TPR)/(PPV+TPR)\n",
    "F1_alt = (2*TP)/(2*TP+FP+FN)\n",
    "\n",
    "#Informedness, Bookmaker Informedness\n",
    "BM = TPR+TNR-1\n",
    "\n",
    "#Markedness\n",
    "MK = TPR+TPR-1\n",
    "\n",
    "#Matthews Correlation Coefficient \n",
    "MCC = (TP*TN-FP*FN)/math.sqrt((TP+FP)*(TP+FN)*(TN+FP)*(TN+FN))\n",
    "\n",
    "#print(tabulate([['Accuracy', ACC],['Sensitivity (TPR)', TPR], ['Specificity (TNR)', TNR]\n",
    "#               ['F1 score (F1)', F1], ['F1 score alternative', F1_alt], ['Informedness (BM)', BM],\n",
    "#               ['Markedness (MK)', MK], ['Matthews Correlation Coefficient (MCC)', MCC]], \n",
    "#               headers = ['Metric', 'Value']))\n",
    "\n",
    "\n",
    "print('Accuracy: \\t\\t\\t\\t'                   + str(ACC))\n",
    "print('Sensitivity (TPR): \\t\\t\\t'            + str(TPR))\n",
    "print('Specificity (TNR): \\t\\t\\t'            + str(TNR))\n",
    "print('Precision (PPV): \\t\\t\\t'              + str(PPV))\n",
    "print('')\n",
    "print('F1 score (F1): \\t\\t\\t\\t'              + str(F1))\n",
    "print('F1 score alternative: \\t\\t\\t'         + str(F1_alt))\n",
    "print('')\n",
    "print('Informedness: \\t\\t\\t\\t'               + str(BM))\n",
    "print('Markedness: \\t\\t\\t\\t'                 + str(MK))\n",
    "print('Matthews Correlation Coefficient: \\t' + str(MCC))"
   ]
  },
  {
   "cell_type": "markdown",
   "metadata": {},
   "source": [
    "# Preparation for ROC and AUC\n",
    "\n",
    "The *predict_proba()* function of the kNN-classifier returns the probability for a sample to belong to each class. In our case, this means we get two values, which sum up to 1.0. For kNN-classifiers on a two-class problem, the value for **k** defines the percentage steps, as each neighbour 'votes' for its class. For **k** = 3, there can only be, 0, 1, 2 or 3 votes for class **P**, so 0%, 33%, 67% or 100% of the votes. Other classifiers may give continuous percentages.\n",
    "\n",
    "For this example, **k** = 10 is chosen as it gives easy to understand 10% increments. It also allows us to simplify the evaluation of the predictions, as changes in classification will only happen at those 10% increments. "
   ]
  },
  {
   "cell_type": "code",
   "execution_count": 6,
   "metadata": {},
   "outputs": [
    {
     "name": "stdout",
     "output_type": "stream",
     "text": [
      "  TP  TN  FP   FN\n",
      "[[150. 142.   8.   0.]\n",
      " [150. 143.   7.   0.]\n",
      " [149. 143.   7.   1.]\n",
      " [149. 143.   7.   1.]\n",
      " [147. 144.   6.   3.]\n",
      " [146. 148.   2.   4.]\n",
      " [145. 148.   2.   5.]\n",
      " [143. 149.   1.   7.]\n",
      " [139. 150.   0.  11.]\n",
      " [138. 150.   0.  12.]\n",
      " [  0. 150.   0. 150.]]\n"
     ]
    }
   ],
   "source": [
    "# k=10 classifier setup and fit\n",
    "knc_auc = KNeighborsClassifier(n_neighbors=10)\n",
    "knc_auc.fit(X, y)\n",
    "\n",
    "#Predict probabilities for the test samples and delete the column \n",
    "#containing the N-percentages \n",
    "prob = np.delete(knc_auc.predict_proba(X_test), 0,1)\n",
    "\n",
    "#Matrix to hold the predictions of all test variables depending on the variable threshold \n",
    "prob_predicts = np.empty((11, len(prob)))\n",
    "\n",
    "#Array containing the hard-coded percentage limits for discrete sampling\n",
    "fixed_threshold = np.linspace(0,1,11) #[0, 0.1, 0.2, 0.3, 0.4, 0.5, 0.6, 0.7, 0.8, 0.9, 1.0]\n",
    "\n",
    "#Predict the class for each test sample depending on the percentage threshold\n",
    "for i in range (0,11):\n",
    "    for j in range (0, len(prob)):\n",
    "        if prob[j] <= fixed_threshold[i]:\n",
    "            prob_predicts[i][j] = 0\n",
    "        else:\n",
    "            prob_predicts[i][j] = 1\n",
    "            \n",
    "#Matrix to hold the counts for TP, TN, FP and FN for each percentage threshold            \n",
    "conf_matrix_ROC = np.empty((len(fixed_threshold),4))\n",
    "\n",
    "for i in range(0,len(fixed_threshold)):\n",
    "    conf_matrix_ROC[i] = confusion_matrix(prob_predicts[i], y_test)\n",
    "\n",
    "print('  TP  TN  FP   FN')\n",
    "print(conf_matrix_ROC)"
   ]
  },
  {
   "cell_type": "markdown",
   "metadata": {},
   "source": [
    "# Creating the ROC curve\n",
    "\n",
    "For the ROC curve, we need the False Positive Rate **FPR** (or 1-specificity) on the x-axis and the True Positive Rate **TPR**, also called Sensitivity, on the y-axis. In this case, the *matplotlib* plotting procedure is included to demonstrate its use and because it is relevant to the metric at display. "
   ]
  },
  {
   "cell_type": "code",
   "execution_count": 7,
   "metadata": {},
   "outputs": [
    {
     "data": {
      "image/png": "[encoded data removed]",
      "text/plain": [
       "<Figure size 640x480 with 1 Axes>"
      ]
     },
     "metadata": {},
     "output_type": "display_data"
    }
   ],
   "source": [
    "TPR_list = np.empty(len(fixed_threshold)+1)\n",
    "FPR_list = np.empty(len(fixed_threshold)+1)\n",
    "\n",
    "#Set final values in the top right corner for complete graph\n",
    "TPR_list[0] = 1\n",
    "FPR_list[0] = 1\n",
    "\n",
    "for i in range(0, len(fixed_threshold)):\n",
    "    #Copy values from confusion matrix for better readability in the actual calculation\n",
    "    iTP = conf_matrix_ROC[i][0]\n",
    "    iTN = conf_matrix_ROC[i][1]\n",
    "    iFP = conf_matrix_ROC[i][2]\n",
    "    iFN = conf_matrix_ROC[i][3]\n",
    "    \n",
    "    #True Positive Rate\n",
    "    TPR_list[i+1] = iTP/(iTP+iFN)\n",
    "    #False Positive Rate\n",
    "    FPR_list[i+1] = iFP/(iFP+iTN)\n",
    "\n",
    "\n",
    "\n",
    "#Create new figure\n",
    "plt.figure()\n",
    "\n",
    "#plot(x-coordinates, y-coordinates, line colour, line width, label) for the ROC curve\n",
    "plt.plot(FPR_list, TPR_list, color='darkorange', lw=2,\n",
    "         label='ROC curve')\n",
    "\n",
    "#Plot a diagonal line from (0,0) to (1,1) representing random guesses in a balanced dataset\n",
    "plt.plot([0, 1], [0, 1], color='navy', linestyle='--')\n",
    "\n",
    "#Set the intervals of the x- and y-axis\n",
    "plt.xlim([-0.05, 1.05])\n",
    "plt.ylim([-0.05, 1.05])\n",
    "\n",
    "#Set names for the x- and y-axis\n",
    "plt.xlabel('False Positive Rate')\n",
    "plt.ylabel('True Positive Rate')\n",
    "\n",
    "#Set graph title\n",
    "plt.title('Receiver Operating Characteristic Example')\n",
    "\n",
    "#Set legend position\n",
    "plt.legend(loc=\"lower right\")\n",
    "\n",
    "#Render the graph\n",
    "plt.show()"
   ]
  },
  {
   "cell_type": "markdown",
   "metadata": {},
   "source": [
    "# R² - Coefficient of Determination\n",
    "\n",
    "As the name indicates, the coefficient of determination (CoD) is simply the correlation coefficient squared. Incidentially, this makes the CoD better interpretable. For example, comparing the correlation coefficients of two regression models of $r_1 = 0.5$ and $r_2 = 0.7$, it is not immediately clear how much better the latter value actually is, or how good either of them describes the dataset. Using their squared values, however, we find $r_1^2 = 0.5² = 0.25$  and $r_2^2 = 0.7² = 0.49$. We can now say, that the model producing $r_1$ explains only $1/4$th of the variance in the dataset, whereas the second model explains half the variance. For the same dataset, this would indicate that model 2 is twice as good as model 1. \n",
    "\n",
    "To calculate the CoD without first calculating the correlation coefficient *r* we can use the variance of the dataset *X* using either the mean of the dataset $\\mu$ or the variance compared to the prediction - in this case described by a function f(x).\n",
    "\n",
    "$$\\mu = \\frac {\\sum\\limits_{i=0}^{n} y_i}{n}$$\n",
    "\n",
    "\n",
    "$$Var_{mean}(X) = \\sum\\limits_{i=0}^{n} (y_i - \\mu)²$$\n",
    "\n",
    "\n",
    "$$Var_{predict}(X) = \\sum\\limits_{i=0}^{n} (y_i - f(x_i))²$$\n",
    "\n",
    "\n",
    "$$R² = \\frac{Var_{mean}(X) - Var_{predict}(X)}{Var_{mean}(X)}$$\n",
    "\n",
    "\n",
    "\n",
    "To interpret the final formula: The less the predicted values differ from the actual values (i.e. $Var_{predict}$ is very small), the closer the numerator is to $Var_{mean}$. Dividing by $Var_{mean}$ normalizes the result which leads to a percentage value. \n",
    "\n",
    "**Task:** Change the value for the standard deviation in line 4 to see how a more noisy dataset affects the R² value.\n",
    "\n",
    "\n",
    "\n",
    "*Note:* For different datasets, the threshold for what an acceptable or significant CoD is can vary. If a dataset has only two features and one feature delivers a CoD of 0.25, the other variable should perform much better or the dataset is exceptionally noisy. If a second dataset has 1 million features and a single feature shows a CoD of 0.25 - meaning it explains 25% of the whole dataset on its own - which is very significant. "
   ]
  },
  {
   "cell_type": "code",
   "execution_count": 13,
   "metadata": {},
   "outputs": [
    {
     "data": {
      "image/png": "[encoded data removed]",
      "text/plain": [
       "<Figure size 640x480 with 1 Axes>"
      ]
     },
     "metadata": {},
     "output_type": "display_data"
    }
   ],
   "source": [
    "#Parameters for y=mx+t to create a linear dataset. std defines standard deviation of the y-values from the line.\n",
    "m = 2.5\n",
    "t = -1\n",
    "std = 2\n",
    "\n",
    "#Create uniformly spaced x-coordinates\n",
    "Xr = np.linspace(0,15,50)\n",
    "Xr = Xr.reshape(-1,1)\n",
    "\n",
    "#y values follow a linear equation with random deviations added using a normal distribution\n",
    "yr = np.empty(50)\n",
    "for i in range(0, len(Xr)):\n",
    "    yr[i] = (m*Xr[i]+t) + np.random.normal(0,std)\n",
    "\n",
    "\n",
    "#Perform linear regression to fit a line to the dataset\n",
    "reg = LinearRegression().fit(Xr, yr)\n",
    "\n",
    "#Predict the y-values for each sample in the dataset using the linear regression model\n",
    "yr_predict = reg.predict(Xr)    \n",
    "\n",
    "    \n",
    "#Calculate the mean 𝜇 of the dataset  \n",
    "yr_mean = np.mean(yr) \n",
    "\n",
    "#Calculate the variance from the mean by subtracting the mean from each array entry, then squaring each entry and \n",
    "#taking the sum of all values. For the variance of the prediction, the two arrays are subtracted pairwise before \n",
    "#squaring and summation\n",
    "var_mean = np.sum((yr-yr_mean)**2)\n",
    "var_predict = np.sum((yr-yr_predict)**2)\n",
    "\n",
    "#Calculate R² according to the formula above\n",
    "R_squared = (var_mean-var_predict)/var_mean\n",
    "\n",
    "\n",
    "#Plot the dataset, mean and prediction\n",
    "plt.plot(Xr, yr, color='red', marker='+', ls='', label='Dataset')\n",
    "plt.plot([0,15], [yr_mean, yr_mean], color='blue', ls='--', label='Mean')\n",
    "plt.plot(Xr, yr_predict, color='green', ls='-', label='Prediction f(x)')\n",
    "plt.xlabel('Size')\n",
    "plt.ylabel('Weight')\n",
    "plt.legend(loc=\"lower right\")\n",
    "plt.title('R² = {:1.4f}'.format(R_squared))\n",
    "plt.show()"
   ]
  },
  {
   "cell_type": "markdown",
   "metadata": {},
   "source": [
    "# Using confusion matrix from sklearn"
   ]
  },
  {
   "cell_type": "code",
   "execution_count": 1,
   "metadata": {},
   "outputs": [
    {
     "name": "stdout",
     "output_type": "stream",
     "text": [
      "Confusion matrix : \n",
      " [[2 2]\n",
      " [1 5]]\n",
      "Outcome values : \n",
      " 2 2 1 5\n",
      "Classification report : \n",
      "               precision    recall  f1-score   support\n",
      "\n",
      "           1       0.67      0.50      0.57         4\n",
      "           0       0.71      0.83      0.77         6\n",
      "\n",
      "    accuracy                           0.70        10\n",
      "   macro avg       0.69      0.67      0.67        10\n",
      "weighted avg       0.70      0.70      0.69        10\n",
      "\n"
     ]
    }
   ],
   "source": [
    "# confusion matrix in sklearn\n",
    "from sklearn.metrics import confusion_matrix\n",
    "from sklearn.metrics import classification_report\n",
    "\n",
    "# actual values\n",
    "actual = [1,0,0,1,0,0,1,0,0,1]\n",
    "# predicted values\n",
    "predicted = [1,0,0,1,0,0,0,1,0,0]\n",
    "\n",
    "# confusion matrix\n",
    "matrix = confusion_matrix(actual,predicted, labels=[1,0])\n",
    "print('Confusion matrix : \\n',matrix)\n",
    "\n",
    "# outcome values order in sklearn\n",
    "tp, fn, fp, tn = confusion_matrix(actual,predicted,labels=[1,0]).reshape(-1)\n",
    "print('Outcome values : \\n', tp, fn, fp, tn)\n",
    "\n",
    "# classification report for precision, recall f1-score and accuracy\n",
    "matrix = classification_report(actual,predicted,labels=[1,0])\n",
    "print('Classification report : \\n',matrix)"
   ]
  }
 ],
 "metadata": {
  "kernelspec": {
   "display_name": "Python 3",
   "language": "python",
   "name": "python3"
  },
  "language_info": {
   "codemirror_mode": {
    "name": "ipython",
    "version": 3
   },
   "file_extension": ".py",
   "mimetype": "text/x-python",
   "name": "python",
   "nbconvert_exporter": "python",
   "pygments_lexer": "ipython3",
   "version": "3.8.5"
  }
 },
 "nbformat": 4,
 "nbformat_minor": 2
}
