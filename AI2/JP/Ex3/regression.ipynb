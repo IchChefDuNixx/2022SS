{
 "cells": [
  {
   "cell_type": "markdown",
   "metadata": {},
   "source": [
    "# Simple way to calculate MSE\n",
    "\n",
    "Here is a way to calc MSE using comprehensions."
   ]
  },
  {
   "cell_type": "code",
   "execution_count": null,
   "metadata": {},
   "outputs": [],
   "source": [
    "import numpy as np\n",
    "\n",
    "Yo = [2, 5, 9, 2]  # original values\n",
    "Yc = [6, 3, 6, 1]  # calculated values\n",
    "\n",
    "mse = np.sum([(o-c)**2 for o,c in zip(Yo,Yc)])/len(Yc)\n",
    "\n",
    "print(mse)"
   ]
  },
  {
   "cell_type": "markdown",
   "metadata": {},
   "source": [
    "# Simple linear regression\n",
    "\n",
    "Here is a prototyped linear regression implementation."
   ]
  },
  {
   "cell_type": "code",
   "execution_count": 35,
   "metadata": {},
   "outputs": [
    {
     "name": "stdout",
     "output_type": "stream",
     "text": [
      "Slope 1.00 and intersection 0.31\n"
     ]
    }
   ],
   "source": [
    "import numpy as np\n",
    "\n",
    "def linear_regression(X,Y, iterations=1000, eta=0.01 ):\n",
    "\n",
    "    m = 0.0\n",
    "    b = 0.0\n",
    "\n",
    "    for j in range(iterations):\n",
    "        b = b + eta * np.sum([(o-(m*x+b)) for o,x in zip(Y,X)])/len(Y)\n",
    "        m = m + eta * np.sum([(o-(m*x+b))*x for o,x in zip(Y,X)])/len(Y) \n",
    "\n",
    "    return m,b\n",
    "\n",
    "Y = [1,4,3,4,9,21]\n",
    "X = [1,2,3,4,10,20]\n",
    "\n",
    "m,b = linear_regression(X,Y)\n",
    "\n",
    "print(\"Slope {:.2f} and intersection {:.2f}\" .format(m,b))\n"
   ]
  }
 ],
 "metadata": {
  "interpreter": {
   "hash": "f9b5efd0e08c2114346742f400161afdcd7adc5e33ff643b399fae2581a6d016"
  },
  "kernelspec": {
   "display_name": "Python 3.8.5 ('base')",
   "language": "python",
   "name": "python3"
  },
  "language_info": {
   "codemirror_mode": {
    "name": "ipython",
    "version": 3
   },
   "file_extension": ".py",
   "mimetype": "text/x-python",
   "name": "python",
   "nbconvert_exporter": "python",
   "pygments_lexer": "ipython3",
   "version": "3.8.5"
  },
  "orig_nbformat": 4
 },
 "nbformat": 4,
 "nbformat_minor": 2
}
